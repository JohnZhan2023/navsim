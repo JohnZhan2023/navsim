{
 "cells": [
  {
   "cell_type": "code",
   "execution_count": 1,
   "metadata": {},
   "outputs": [
    {
     "name": "stderr",
     "output_type": "stream",
     "text": [
      "/root/miniconda3/envs/navsim/lib/python3.9/site-packages/tqdm/auto.py:21: TqdmWarning: IProgress not found. Please update jupyter and ipywidgets. See https://ipywidgets.readthedocs.io/en/stable/user_install.html\n",
      "  from .autonotebook import tqdm as notebook_tqdm\n"
     ]
    }
   ],
   "source": [
    "from typing import Tuple\n",
    "import hydra\n",
    "from hydra.utils import instantiate\n",
    "import logging\n",
    "from omegaconf import DictConfig\n",
    "from pathlib import Path\n",
    "import pytorch_lightning as pl\n",
    "from torch.utils.data import DataLoader\n",
    "\n",
    "from navsim.planning.training.dataset import CacheOnlyDataset, Dataset\n",
    "from navsim.planning.training.agent_lightning_module import AgentLightningModule\n",
    "from navsim.common.dataloader import SceneLoader\n",
    "from navsim.common.dataclasses import SceneFilter\n",
    "from navsim.agents.abstract_agent import AbstractAgent"
   ]
  },
  {
   "cell_type": "code",
   "execution_count": 3,
   "metadata": {},
   "outputs": [],
   "source": [
    "\n",
    "def build_datasets(cfg: DictConfig, agent: AbstractAgent) -> Tuple[Dataset, Dataset]:\n",
    "    train_scene_filter: SceneFilter = instantiate(cfg.scene_filter)\n",
    "    if train_scene_filter.log_names is not None:\n",
    "        train_scene_filter.log_names = [l for l in train_scene_filter.log_names if l in cfg.train_logs]\n",
    "    else:\n",
    "        train_scene_filter.log_names = cfg.train_logs\n",
    "\n",
    "    val_scene_filter: SceneFilter = instantiate(cfg.scene_filter)\n",
    "    if val_scene_filter.log_names is not None:\n",
    "        val_scene_filter.log_names = [l for l in val_scene_filter.log_names if l in cfg.val_logs]\n",
    "    else:\n",
    "        val_scene_filter.log_names = cfg.val_logs\n",
    "\n",
    "    data_path = Path(cfg.navsim_log_path)\n",
    "    sensor_blobs_path = Path(cfg.sensor_blobs_path)\n",
    "\n",
    "    train_scene_loader = SceneLoader(\n",
    "        sensor_blobs_path=sensor_blobs_path,\n",
    "        data_path=data_path,\n",
    "        scene_filter=train_scene_filter,\n",
    "        sensor_config=agent.get_sensor_config(),\n",
    "    )\n",
    "\n",
    "    val_scene_loader = SceneLoader(\n",
    "        sensor_blobs_path=sensor_blobs_path,\n",
    "        data_path=data_path,\n",
    "        scene_filter=val_scene_filter,\n",
    "        sensor_config=agent.get_sensor_config(),\n",
    "    )\n",
    "\n",
    "    train_data = Dataset(\n",
    "        scene_loader=train_scene_loader,\n",
    "        feature_builders=agent.get_feature_builders(),\n",
    "        target_builders=agent.get_target_builders(),\n",
    "        cache_path=cfg.cache_path,\n",
    "        force_cache_computation=cfg.force_cache_computation,\n",
    "    )\n",
    "\n",
    "    val_data = Dataset(\n",
    "        scene_loader=val_scene_loader,\n",
    "        feature_builders=agent.get_feature_builders(),\n",
    "        target_builders=agent.get_target_builders(),\n",
    "        cache_path=cfg.cache_path,\n",
    "        force_cache_computation=cfg.force_cache_computation,\n",
    "    )\n",
    "\n",
    "    return train_data, val_data"
   ]
  },
  {
   "cell_type": "code",
   "execution_count": 4,
   "metadata": {},
   "outputs": [],
   "source": [
    "from omegaconf import OmegaConf\n",
    "cfg = OmegaConf.load(\"/root/navsim/cfg.yaml\")"
   ]
  },
  {
   "cell_type": "code",
   "execution_count": 5,
   "metadata": {},
   "outputs": [
    {
     "name": "stderr",
     "output_type": "stream",
     "text": [
      "Seed set to 0\n"
     ]
    },
    {
     "data": {
      "text/plain": [
       "0"
      ]
     },
     "execution_count": 5,
     "metadata": {},
     "output_type": "execute_result"
    }
   ],
   "source": [
    "pl.seed_everything(0, workers=True)"
   ]
  },
  {
   "cell_type": "code",
   "execution_count": 6,
   "metadata": {},
   "outputs": [
    {
     "name": "stderr",
     "output_type": "stream",
     "text": [
      "2024-05-12 15:58:40.376808: I external/local_tsl/tsl/cuda/cudart_stub.cc:32] Could not find cuda drivers on your machine, GPU will not be used.\n",
      "2024-05-12 15:58:40.423371: I tensorflow/core/platform/cpu_feature_guard.cc:210] This TensorFlow binary is optimized to use available CPU instructions in performance-critical operations.\n",
      "To enable the following instructions: AVX2 FMA, in other operations, rebuild TensorFlow with the appropriate compiler flags.\n",
      "2024-05-12 15:58:41.203041: W tensorflow/compiler/tf2tensorrt/utils/py_utils.cc:38] TF-TRT Warning: Could not find TensorRT\n"
     ]
    },
    {
     "name": "stdout",
     "output_type": "stream",
     "text": [
      "initializing human agent...\n"
     ]
    }
   ],
   "source": [
    "agent: AbstractAgent = instantiate(cfg.agent)"
   ]
  },
  {
   "cell_type": "code",
   "execution_count": 7,
   "metadata": {},
   "outputs": [],
   "source": [
    "lightning_module = AgentLightningModule(\n",
    "        agent=agent,\n",
    "    )"
   ]
  },
  {
   "cell_type": "code",
   "execution_count": 8,
   "metadata": {},
   "outputs": [
    {
     "name": "stderr",
     "output_type": "stream",
     "text": [
      "Loading logs: 100%|██████████| 44/44 [00:15<00:00,  2.88it/s]\n",
      "Loading logs: 100%|██████████| 10/10 [00:02<00:00,  4.04it/s]\n",
      "Caching Dataset: 0it [00:00, ?it/s]\n",
      "Caching Dataset: 0it [00:00, ?it/s]\n"
     ]
    }
   ],
   "source": [
    "train_data, val_data = build_datasets(cfg, agent)"
   ]
  },
  {
   "cell_type": "code",
   "execution_count": null,
   "metadata": {},
   "outputs": [],
   "source": []
  },
  {
   "cell_type": "code",
   "execution_count": 8,
   "metadata": {},
   "outputs": [],
   "source": [
    "train_dataloader = DataLoader(train_data, **cfg.dataloader.params, shuffle=True)"
   ]
  },
  {
   "cell_type": "code",
   "execution_count": 9,
   "metadata": {},
   "outputs": [],
   "source": [
    "val_dataloader = DataLoader(val_data, **cfg.dataloader.params, shuffle=False)"
   ]
  },
  {
   "cell_type": "code",
   "execution_count": 9,
   "metadata": {},
   "outputs": [],
   "source": [
    "data=train_data[0]"
   ]
  },
  {
   "cell_type": "code",
   "execution_count": null,
   "metadata": {},
   "outputs": [
    {
     "name": "stdout",
     "output_type": "stream",
     "text": [
      "cache /cephfs/zhanjh/exp/training_cache\n"
     ]
    }
   ],
   "source": [
    "data1=train_data[1]"
   ]
  },
  {
   "cell_type": "code",
   "execution_count": 10,
   "metadata": {},
   "outputs": [
    {
     "data": {
      "text/plain": [
       "({'camera_feature': tensor([[[[0.3529, 0.3373, 0.3412,  ..., 0.1843, 0.2431, 0.2000],\n",
       "            [0.3373, 0.3373, 0.3294,  ..., 0.1765, 0.2392, 0.2078],\n",
       "            [0.3373, 0.3412, 0.3216,  ..., 0.1804, 0.2392, 0.2157],\n",
       "            ...,\n",
       "            [0.2235, 0.2275, 0.2196,  ..., 0.1843, 0.1804, 0.1804],\n",
       "            [0.2157, 0.2275, 0.2196,  ..., 0.1882, 0.1843, 0.1804],\n",
       "            [0.2275, 0.2235, 0.2314,  ..., 0.1804, 0.1804, 0.1765]],\n",
       "  \n",
       "           [[0.3490, 0.3333, 0.3373,  ..., 0.1882, 0.2431, 0.1961],\n",
       "            [0.3333, 0.3333, 0.3137,  ..., 0.1961, 0.2392, 0.2039],\n",
       "            [0.3333, 0.3373, 0.3059,  ..., 0.2000, 0.2392, 0.2118],\n",
       "            ...,\n",
       "            [0.2431, 0.2471, 0.2392,  ..., 0.2196, 0.2078, 0.2078],\n",
       "            [0.2353, 0.2471, 0.2392,  ..., 0.2235, 0.2118, 0.2078],\n",
       "            [0.2471, 0.2431, 0.2510,  ..., 0.2157, 0.2078, 0.2039]],\n",
       "  \n",
       "           [[0.3333, 0.3176, 0.3216,  ..., 0.2078, 0.2510, 0.2196],\n",
       "            [0.3176, 0.3176, 0.3020,  ..., 0.2196, 0.2471, 0.2275],\n",
       "            [0.3176, 0.3216, 0.2941,  ..., 0.2235, 0.2471, 0.2353],\n",
       "            ...,\n",
       "            [0.2667, 0.2706, 0.2627,  ..., 0.2549, 0.2471, 0.2471],\n",
       "            [0.2588, 0.2706, 0.2627,  ..., 0.2588, 0.2510, 0.2471],\n",
       "            [0.2706, 0.2667, 0.2745,  ..., 0.2510, 0.2471, 0.2431]]],\n",
       "  \n",
       "  \n",
       "          [[[0.3765, 0.5216, 0.8235,  ..., 0.1922, 0.1647, 0.1765],\n",
       "            [0.4824, 0.5255, 0.8157,  ..., 0.2039, 0.1686, 0.1647],\n",
       "            [0.5059, 0.5255, 0.8196,  ..., 0.2157, 0.1686, 0.1765],\n",
       "            ...,\n",
       "            [0.1922, 0.1961, 0.1843,  ..., 0.2706, 0.2588, 0.2471],\n",
       "            [0.1922, 0.1922, 0.1882,  ..., 0.2706, 0.2510, 0.2353],\n",
       "            [0.1922, 0.1922, 0.1882,  ..., 0.2588, 0.2431, 0.2314]],\n",
       "  \n",
       "           [[0.3451, 0.5647, 0.7529,  ..., 0.2078, 0.1765, 0.1882],\n",
       "            [0.4784, 0.5725, 0.7608,  ..., 0.2078, 0.1882, 0.1843],\n",
       "            [0.5020, 0.5804, 0.7529,  ..., 0.2196, 0.1882, 0.1961],\n",
       "            ...,\n",
       "            [0.2078, 0.2118, 0.2118,  ..., 0.2902, 0.2863, 0.2745],\n",
       "            [0.2078, 0.2078, 0.2157,  ..., 0.2902, 0.2784, 0.2627],\n",
       "            [0.2078, 0.2078, 0.2157,  ..., 0.2784, 0.2706, 0.2588]],\n",
       "  \n",
       "           [[0.3216, 0.6000, 0.6980,  ..., 0.2196, 0.2039, 0.2157],\n",
       "            [0.4392, 0.6196, 0.6902,  ..., 0.2235, 0.2039, 0.2118],\n",
       "            [0.4667, 0.6235, 0.6863,  ..., 0.2353, 0.2039, 0.2196],\n",
       "            ...,\n",
       "            [0.2431, 0.2471, 0.2431,  ..., 0.3137, 0.3176, 0.3059],\n",
       "            [0.2431, 0.2431, 0.2471,  ..., 0.3137, 0.3098, 0.2941],\n",
       "            [0.2431, 0.2431, 0.2471,  ..., 0.3020, 0.3020, 0.2902]]],\n",
       "  \n",
       "  \n",
       "          [[[0.5608, 1.0000, 0.9176,  ..., 0.8667, 0.8235, 0.8196],\n",
       "            [0.6000, 0.9294, 0.8824,  ..., 0.8549, 0.8471, 0.8392],\n",
       "            [0.6039, 0.6745, 0.8784,  ..., 0.8471, 0.8314, 0.8000],\n",
       "            ...,\n",
       "            [0.2078, 0.2196, 0.2549,  ..., 0.2118, 0.2078, 0.1961],\n",
       "            [0.2392, 0.2627, 0.2902,  ..., 0.2039, 0.1961, 0.1882],\n",
       "            [0.2627, 0.2863, 0.3020,  ..., 0.2039, 0.1961, 0.1882]],\n",
       "  \n",
       "           [[0.5608, 0.9922, 0.8549,  ..., 0.7569, 0.7608, 0.7373],\n",
       "            [0.5725, 0.9569, 0.7804,  ..., 0.7725, 0.7843, 0.7569],\n",
       "            [0.6000, 0.7451, 0.7922,  ..., 0.7922, 0.7686, 0.7333],\n",
       "            ...,\n",
       "            [0.2235, 0.2353, 0.2745,  ..., 0.2471, 0.2392, 0.2275],\n",
       "            [0.2588, 0.2824, 0.3098,  ..., 0.2392, 0.2275, 0.2196],\n",
       "            [0.2824, 0.3059, 0.3216,  ..., 0.2392, 0.2275, 0.2196]],\n",
       "  \n",
       "           [[0.5961, 1.0000, 0.7333,  ..., 0.7059, 0.6902, 0.6549],\n",
       "            [0.5686, 0.9451, 0.6980,  ..., 0.6824, 0.7020, 0.6667],\n",
       "            [0.5843, 0.7020, 0.7137,  ..., 0.6902, 0.7059, 0.6549],\n",
       "            ...,\n",
       "            [0.2588, 0.2627, 0.2902,  ..., 0.2824, 0.2824, 0.2706],\n",
       "            [0.2824, 0.3059, 0.3255,  ..., 0.2745, 0.2706, 0.2627],\n",
       "            [0.2980, 0.3216, 0.3373,  ..., 0.2745, 0.2706, 0.2627]]],\n",
       "  \n",
       "  \n",
       "          [[[0.6784, 0.6078, 0.4706,  ..., 0.8706, 0.8510, 0.8431],\n",
       "            [0.5569, 0.5569, 0.5922,  ..., 0.8588, 0.8824, 0.8549],\n",
       "            [0.5765, 0.6471, 0.7451,  ..., 0.8902, 0.9137, 0.8706],\n",
       "            ...,\n",
       "            [0.1647, 0.1686, 0.1765,  ..., 0.2314, 0.2196, 0.2078],\n",
       "            [0.1569, 0.1608, 0.1765,  ..., 0.2235, 0.2157, 0.2000],\n",
       "            [0.1647, 0.1765, 0.1725,  ..., 0.2118, 0.2078, 0.2039]],\n",
       "  \n",
       "           [[0.5961, 0.5294, 0.4039,  ..., 0.8078, 0.7882, 0.7804],\n",
       "            [0.4706, 0.4471, 0.5020,  ..., 0.7843, 0.8000, 0.7686],\n",
       "            [0.4784, 0.5333, 0.6667,  ..., 0.8157, 0.8392, 0.7843],\n",
       "            ...,\n",
       "            [0.1843, 0.1882, 0.1961,  ..., 0.2627, 0.2510, 0.2392],\n",
       "            [0.1765, 0.1804, 0.1961,  ..., 0.2549, 0.2471, 0.2314],\n",
       "            [0.1843, 0.1961, 0.1922,  ..., 0.2431, 0.2392, 0.2353]],\n",
       "  \n",
       "           [[0.5294, 0.4431, 0.3451,  ..., 0.7451, 0.7451, 0.6980],\n",
       "            [0.3961, 0.4000, 0.4314,  ..., 0.7255, 0.7373, 0.6784],\n",
       "            [0.3961, 0.4667, 0.5922,  ..., 0.7569, 0.7765, 0.6941],\n",
       "            ...,\n",
       "            [0.2078, 0.2118, 0.2196,  ..., 0.3059, 0.2941, 0.2824],\n",
       "            [0.2000, 0.2039, 0.2196,  ..., 0.2980, 0.2902, 0.2745],\n",
       "            [0.2078, 0.2196, 0.2157,  ..., 0.2863, 0.2824, 0.2784]]]]),\n",
       "  'status_feature': tensor([ 0.0000,  0.0000,  1.0000,  0.0000,  3.8300,  0.1057, -0.0961, -0.6944])},\n",
       " {'trajectory': tensor([[ 1.8449, -0.0883, -0.1092],\n",
       "          [ 3.6463, -0.4023, -0.2398],\n",
       "          [ 5.3686, -0.9523, -0.3889],\n",
       "          [ 7.0978, -1.7980, -0.5564],\n",
       "          [ 8.7931, -3.0453, -0.7379],\n",
       "          [10.3725, -4.7149, -0.9012],\n",
       "          [11.8347, -6.7531, -0.9963],\n",
       "          [13.2534, -9.0238, -1.0544]], dtype=torch.float64)})"
      ]
     },
     "execution_count": 10,
     "metadata": {},
     "output_type": "execute_result"
    }
   ],
   "source": [
    "data"
   ]
  },
  {
   "cell_type": "code",
   "execution_count": 11,
   "metadata": {},
   "outputs": [
    {
     "ename": "NameError",
     "evalue": "name 'data1' is not defined",
     "output_type": "error",
     "traceback": [
      "\u001b[0;31m---------------------------------------------------------------------------\u001b[0m",
      "\u001b[0;31mNameError\u001b[0m                                 Traceback (most recent call last)",
      "Cell \u001b[0;32mIn[11], line 1\u001b[0m\n\u001b[0;32m----> 1\u001b[0m \u001b[43mdata1\u001b[49m[\u001b[38;5;241m1\u001b[39m][\u001b[38;5;124m\"\u001b[39m\u001b[38;5;124mtrajectory\u001b[39m\u001b[38;5;124m\"\u001b[39m]\n",
      "\u001b[0;31mNameError\u001b[0m: name 'data1' is not defined"
     ]
    }
   ],
   "source": [
    "data1[1][\"trajectory\"]"
   ]
  },
  {
   "cell_type": "code",
   "execution_count": null,
   "metadata": {},
   "outputs": [
    {
     "data": {
      "text/plain": [
       "tensor([[ 1.8449, -0.0883, -0.1092],\n",
       "        [ 3.6463, -0.4023, -0.2398],\n",
       "        [ 5.3686, -0.9523, -0.3889],\n",
       "        [ 7.0978, -1.7980, -0.5564],\n",
       "        [ 8.7931, -3.0453, -0.7379],\n",
       "        [10.3725, -4.7149, -0.9012],\n",
       "        [11.8347, -6.7531, -0.9963],\n",
       "        [13.2534, -9.0238, -1.0544]], dtype=torch.float64)"
      ]
     },
     "execution_count": 14,
     "metadata": {},
     "output_type": "execute_result"
    }
   ],
   "source": [
    "data[1][\"trajectory\"]"
   ]
  },
  {
   "cell_type": "code",
   "execution_count": 12,
   "metadata": {},
   "outputs": [
    {
     "data": {
      "text/plain": [
       "torch.Size([4, 3, 256, 1024])"
      ]
     },
     "execution_count": 12,
     "metadata": {},
     "output_type": "execute_result"
    }
   ],
   "source": [
    "data[0][\"camera_feature\"].shape"
   ]
  },
  {
   "cell_type": "code",
   "execution_count": 14,
   "metadata": {},
   "outputs": [
    {
     "ename": "KeyError",
     "evalue": "'lidar_feature'",
     "output_type": "error",
     "traceback": [
      "\u001b[0;31m---------------------------------------------------------------------------\u001b[0m",
      "\u001b[0;31mKeyError\u001b[0m                                  Traceback (most recent call last)",
      "Cell \u001b[0;32mIn[14], line 1\u001b[0m\n\u001b[0;32m----> 1\u001b[0m \u001b[43mdata\u001b[49m\u001b[43m[\u001b[49m\u001b[38;5;241;43m0\u001b[39;49m\u001b[43m]\u001b[49m\u001b[43m[\u001b[49m\u001b[38;5;124;43m\"\u001b[39;49m\u001b[38;5;124;43mlidar_feature\u001b[39;49m\u001b[38;5;124;43m\"\u001b[39;49m\u001b[43m]\u001b[49m\u001b[38;5;241m.\u001b[39mshape\n",
      "\u001b[0;31mKeyError\u001b[0m: 'lidar_feature'"
     ]
    }
   ],
   "source": [
    "data[0][\"lidar_feature\"].shape"
   ]
  },
  {
   "cell_type": "code",
   "execution_count": 15,
   "metadata": {},
   "outputs": [
    {
     "data": {
      "text/plain": [
       "torch.Size([8])"
      ]
     },
     "execution_count": 15,
     "metadata": {},
     "output_type": "execute_result"
    }
   ],
   "source": [
    "data[0][\"status_feature\"].shape"
   ]
  },
  {
   "cell_type": "code",
   "execution_count": null,
   "metadata": {},
   "outputs": [
    {
     "data": {
      "text/plain": [
       "torch.Size([30, 5])"
      ]
     },
     "execution_count": 18,
     "metadata": {},
     "output_type": "execute_result"
    }
   ],
   "source": [
    "data[1][\"agent_states\"].shape"
   ]
  },
  {
   "cell_type": "code",
   "execution_count": null,
   "metadata": {},
   "outputs": [],
   "source": [
    "\n",
    "train_dataloader = DataLoader(train_data, **cfg.dataloader.params, shuffle=True)\n",
    "\n",
    "val_dataloader = DataLoader(val_data, **cfg.dataloader.params, shuffle=False)\n",
    "\n"
   ]
  }
 ],
 "metadata": {
  "kernelspec": {
   "display_name": "navsim",
   "language": "python",
   "name": "python3"
  },
  "language_info": {
   "codemirror_mode": {
    "name": "ipython",
    "version": 3
   },
   "file_extension": ".py",
   "mimetype": "text/x-python",
   "name": "python",
   "nbconvert_exporter": "python",
   "pygments_lexer": "ipython3",
   "version": "3.9.19"
  }
 },
 "nbformat": 4,
 "nbformat_minor": 2
}
