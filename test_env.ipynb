{
 "cells": [
  {
   "cell_type": "code",
   "execution_count": 1,
   "metadata": {},
   "outputs": [
    {
     "name": "stderr",
     "output_type": "stream",
     "text": [
      "/root/miniconda3/envs/navsim/lib/python3.9/site-packages/tqdm/auto.py:21: TqdmWarning: IProgress not found. Please update jupyter and ipywidgets. See https://ipywidgets.readthedocs.io/en/stable/user_install.html\n",
      "  from .autonotebook import tqdm as notebook_tqdm\n"
     ]
    }
   ],
   "source": [
    "from typing import Tuple\n",
    "import hydra\n",
    "from hydra.utils import instantiate\n",
    "import logging\n",
    "from omegaconf import DictConfig\n",
    "from pathlib import Path\n",
    "import pytorch_lightning as pl\n",
    "from torch.utils.data import DataLoader\n",
    "\n",
    "from navsim.planning.training.dataset import CacheOnlyDataset, Dataset\n",
    "from navsim.planning.training.agent_lightning_module import AgentLightningModule\n",
    "from navsim.common.dataloader import SceneLoader\n",
    "from navsim.common.dataclasses import SceneFilter\n",
    "from navsim.agents.abstract_agent import AbstractAgent"
   ]
  },
  {
   "cell_type": "code",
   "execution_count": 2,
   "metadata": {},
   "outputs": [],
   "source": [
    "\n",
    "def build_datasets(cfg: DictConfig, agent: AbstractAgent) -> Tuple[Dataset, Dataset]:\n",
    "    train_scene_filter: SceneFilter = instantiate(cfg.scene_filter)\n",
    "    if train_scene_filter.log_names is not None:\n",
    "        train_scene_filter.log_names = [l for l in train_scene_filter.log_names if l in cfg.train_logs]\n",
    "    else:\n",
    "        train_scene_filter.log_names = cfg.train_logs\n",
    "\n",
    "    val_scene_filter: SceneFilter = instantiate(cfg.scene_filter)\n",
    "    if val_scene_filter.log_names is not None:\n",
    "        val_scene_filter.log_names = [l for l in val_scene_filter.log_names if l in cfg.val_logs]\n",
    "    else:\n",
    "        val_scene_filter.log_names = cfg.val_logs\n",
    "\n",
    "    data_path = Path(cfg.navsim_log_path)\n",
    "    sensor_blobs_path = Path(cfg.sensor_blobs_path)\n",
    "\n",
    "    train_scene_loader = SceneLoader(\n",
    "        sensor_blobs_path=sensor_blobs_path,\n",
    "        data_path=data_path,\n",
    "        scene_filter=train_scene_filter,\n",
    "        sensor_config=agent.get_sensor_config(),\n",
    "    )\n",
    "\n",
    "    val_scene_loader = SceneLoader(\n",
    "        sensor_blobs_path=sensor_blobs_path,\n",
    "        data_path=data_path,\n",
    "        scene_filter=val_scene_filter,\n",
    "        sensor_config=agent.get_sensor_config(),\n",
    "    )\n",
    "\n",
    "    train_data = Dataset(\n",
    "        scene_loader=train_scene_loader,\n",
    "        feature_builders=agent.get_feature_builders(),\n",
    "        target_builders=agent.get_target_builders(),\n",
    "        cache_path=cfg.cache_path,\n",
    "        force_cache_computation=cfg.force_cache_computation,\n",
    "    )\n",
    "\n",
    "    val_data = Dataset(\n",
    "        scene_loader=val_scene_loader,\n",
    "        feature_builders=agent.get_feature_builders(),\n",
    "        target_builders=agent.get_target_builders(),\n",
    "        cache_path=cfg.cache_path,\n",
    "        force_cache_computation=cfg.force_cache_computation,\n",
    "    )\n",
    "\n",
    "    return train_data, val_data"
   ]
  },
  {
   "cell_type": "code",
   "execution_count": 3,
   "metadata": {},
   "outputs": [],
   "source": [
    "from omegaconf import OmegaConf\n",
    "cfg = OmegaConf.load(\"/root/navsim/cfg.yaml\")"
   ]
  },
  {
   "cell_type": "code",
   "execution_count": 4,
   "metadata": {},
   "outputs": [
    {
     "name": "stderr",
     "output_type": "stream",
     "text": [
      "Seed set to 0\n"
     ]
    },
    {
     "data": {
      "text/plain": [
       "0"
      ]
     },
     "execution_count": 4,
     "metadata": {},
     "output_type": "execute_result"
    }
   ],
   "source": [
    "pl.seed_everything(0, workers=True)"
   ]
  },
  {
   "cell_type": "code",
   "execution_count": 5,
   "metadata": {},
   "outputs": [
    {
     "name": "stderr",
     "output_type": "stream",
     "text": [
      "2024-05-11 17:11:56.135465: I external/local_tsl/tsl/cuda/cudart_stub.cc:32] Could not find cuda drivers on your machine, GPU will not be used.\n",
      "2024-05-11 17:11:56.181260: I tensorflow/core/platform/cpu_feature_guard.cc:210] This TensorFlow binary is optimized to use available CPU instructions in performance-critical operations.\n",
      "To enable the following instructions: AVX2 FMA, in other operations, rebuild TensorFlow with the appropriate compiler flags.\n",
      "2024-05-11 17:11:56.952579: W tensorflow/compiler/tf2tensorrt/utils/py_utils.cc:38] TF-TRT Warning: Could not find TensorRT\n"
     ]
    },
    {
     "name": "stdout",
     "output_type": "stream",
     "text": [
      "initializing human agent...\n"
     ]
    }
   ],
   "source": [
    "agent: AbstractAgent = instantiate(cfg.agent)"
   ]
  },
  {
   "cell_type": "code",
   "execution_count": 6,
   "metadata": {},
   "outputs": [],
   "source": [
    "lightning_module = AgentLightningModule(\n",
    "        agent=agent,\n",
    "    )"
   ]
  },
  {
   "cell_type": "code",
   "execution_count": 7,
   "metadata": {},
   "outputs": [
    {
     "name": "stderr",
     "output_type": "stream",
     "text": [
      "Loading logs: 100%|██████████| 44/44 [00:02<00:00, 14.81it/s]\n",
      "Loading logs: 100%|██████████| 10/10 [00:00<00:00, 22.85it/s]\n",
      "Caching Dataset: 0it [00:00, ?it/s]\n",
      "Caching Dataset: 0it [00:00, ?it/s]\n"
     ]
    }
   ],
   "source": [
    "train_data, val_data = build_datasets(cfg, agent)"
   ]
  },
  {
   "cell_type": "code",
   "execution_count": null,
   "metadata": {},
   "outputs": [],
   "source": []
  },
  {
   "cell_type": "code",
   "execution_count": 8,
   "metadata": {},
   "outputs": [],
   "source": [
    "train_dataloader = DataLoader(train_data, **cfg.dataloader.params, shuffle=True)"
   ]
  },
  {
   "cell_type": "code",
   "execution_count": 9,
   "metadata": {},
   "outputs": [],
   "source": [
    "val_dataloader = DataLoader(val_data, **cfg.dataloader.params, shuffle=False)"
   ]
  },
  {
   "cell_type": "code",
   "execution_count": 10,
   "metadata": {},
   "outputs": [],
   "source": [
    "data=train_data[0]"
   ]
  },
  {
   "cell_type": "code",
   "execution_count": 11,
   "metadata": {},
   "outputs": [],
   "source": [
    "data1=train_data[1]"
   ]
  },
  {
   "cell_type": "code",
   "execution_count": 12,
   "metadata": {},
   "outputs": [
    {
     "data": {
      "text/plain": [
       "({'camera_feature': tensor([[[0.2863, 0.2510, 0.2667,  ..., 0.2471, 0.2510, 0.2471],\n",
       "           [0.2706, 0.2588, 0.2549,  ..., 0.2471, 0.2471, 0.2471],\n",
       "           [0.2784, 0.2667, 0.2667,  ..., 0.2471, 0.2471, 0.2471],\n",
       "           ...,\n",
       "           [0.6196, 0.6118, 0.6196,  ..., 0.2549, 0.2549, 0.2510],\n",
       "           [0.6235, 0.6314, 0.6471,  ..., 0.2471, 0.2510, 0.2471],\n",
       "           [0.6196, 0.6275, 0.6314,  ..., 0.2431, 0.2431, 0.2392]],\n",
       "  \n",
       "          [[0.2863, 0.2471, 0.2588,  ..., 0.2941, 0.2980, 0.2941],\n",
       "           [0.2824, 0.2353, 0.2353,  ..., 0.2941, 0.2941, 0.2941],\n",
       "           [0.2902, 0.2471, 0.2549,  ..., 0.2941, 0.2941, 0.2941],\n",
       "           ...,\n",
       "           [0.6588, 0.6471, 0.6471,  ..., 0.2667, 0.2667, 0.2627],\n",
       "           [0.6588, 0.6588, 0.6706,  ..., 0.2588, 0.2627, 0.2588],\n",
       "           [0.6431, 0.6471, 0.6471,  ..., 0.2627, 0.2627, 0.2588]],\n",
       "  \n",
       "          [[0.2627, 0.2353, 0.2706,  ..., 0.3490, 0.3529, 0.3490],\n",
       "           [0.2706, 0.2275, 0.2431,  ..., 0.3412, 0.3412, 0.3412],\n",
       "           [0.2784, 0.2353, 0.2588,  ..., 0.3412, 0.3412, 0.3412],\n",
       "           ...,\n",
       "           [0.6627, 0.6510, 0.6392,  ..., 0.2784, 0.2784, 0.2745],\n",
       "           [0.6667, 0.6627, 0.6667,  ..., 0.2784, 0.2824, 0.2784],\n",
       "           [0.6549, 0.6510, 0.6471,  ..., 0.2863, 0.2863, 0.2824]]]),\n",
       "  'lidar_feature': tensor([[[0., 0., 0.,  ..., 0., 0., 0.],\n",
       "           [0., 0., 0.,  ..., 0., 0., 0.],\n",
       "           [0., 0., 0.,  ..., 0., 0., 0.],\n",
       "           ...,\n",
       "           [0., 0., 0.,  ..., 0., 0., 0.],\n",
       "           [0., 0., 0.,  ..., 0., 0., 0.],\n",
       "           [0., 0., 0.,  ..., 0., 0., 0.]]]),\n",
       "  'status_feature': tensor([ 0.0000,  0.0000,  1.0000,  0.0000,  3.8300,  0.1057, -0.0961, -0.6944])},\n",
       " {'trajectory': tensor([[ 1.8449, -0.0883, -0.1092],\n",
       "          [ 3.6463, -0.4023, -0.2398],\n",
       "          [ 5.3686, -0.9523, -0.3889],\n",
       "          [ 7.0978, -1.7980, -0.5564],\n",
       "          [ 8.7931, -3.0453, -0.7379],\n",
       "          [10.3725, -4.7149, -0.9012],\n",
       "          [11.8347, -6.7531, -0.9963],\n",
       "          [13.2534, -9.0238, -1.0544]], dtype=torch.float64),\n",
       "  'agent_states': tensor([[ -5.3988,  -4.0061,   0.2404,   4.6636,   1.9678],\n",
       "          [-10.9426,  -5.2023,   0.2298,   4.5296,   1.9831],\n",
       "          [ 10.6503, -11.2428,  -1.1187,   4.4456,   1.8974],\n",
       "          [-16.0913,  -6.2805,   0.2255,   4.5302,   1.8896],\n",
       "          [  0.9179,  18.0352,  -1.1452,   4.7756,   1.9590],\n",
       "          [-19.1302,   3.3367,   3.3589,   4.9595,   1.9845],\n",
       "          [ 13.4244, -16.2851,  -1.1312,   5.6670,   2.1008],\n",
       "          [-20.9861,  -7.3048,   0.2118,   4.3951,   1.8435],\n",
       "          [ 23.7659,  -2.5863,   0.2630,   4.3654,   1.9251],\n",
       "          [ 19.9960, -13.7404,   2.0203,   4.6691,   1.8668],\n",
       "          [ -2.1762,  24.5542,  -1.1468,   4.6618,   1.9837],\n",
       "          [-24.8577,   2.2001,   3.3629,   4.2649,   1.9834],\n",
       "          [-26.3724,  -8.3697,   0.2016,   4.5920,   1.8719],\n",
       "          [ 21.9885, -19.6084,   2.0161,   4.9229,   2.0497],\n",
       "          [-31.1572,   0.6674,   3.3986,   4.5383,   1.9450],\n",
       "          [ -5.1263,  31.2178,  -1.1396,   4.6045,   1.9948],\n",
       "          [ -8.9922,  31.2219,  -1.1064,   4.5750,   1.9372],\n",
       "          [-31.4626,  -9.5896,   0.2406,   4.4041,   1.7585],\n",
       "          [ 25.0772, -25.5547,   2.0335,   4.4038,   1.9064],\n",
       "          [  0.0000,   0.0000,   0.0000,   0.0000,   0.0000],\n",
       "          [  0.0000,   0.0000,   0.0000,   0.0000,   0.0000],\n",
       "          [  0.0000,   0.0000,   0.0000,   0.0000,   0.0000],\n",
       "          [  0.0000,   0.0000,   0.0000,   0.0000,   0.0000],\n",
       "          [  0.0000,   0.0000,   0.0000,   0.0000,   0.0000],\n",
       "          [  0.0000,   0.0000,   0.0000,   0.0000,   0.0000],\n",
       "          [  0.0000,   0.0000,   0.0000,   0.0000,   0.0000],\n",
       "          [  0.0000,   0.0000,   0.0000,   0.0000,   0.0000],\n",
       "          [  0.0000,   0.0000,   0.0000,   0.0000,   0.0000],\n",
       "          [  0.0000,   0.0000,   0.0000,   0.0000,   0.0000],\n",
       "          [  0.0000,   0.0000,   0.0000,   0.0000,   0.0000]]),\n",
       "  'agent_labels': tensor([ True,  True,  True,  True,  True,  True,  True,  True,  True,  True,\n",
       "           True,  True,  True,  True,  True,  True,  True,  True,  True, False,\n",
       "          False, False, False, False, False, False, False, False, False, False]),\n",
       "  'bev_semantic_map': tensor([[0., 0., 0.,  ..., 0., 0., 0.],\n",
       "          [0., 0., 0.,  ..., 0., 0., 0.],\n",
       "          [0., 0., 0.,  ..., 0., 0., 0.],\n",
       "          ...,\n",
       "          [0., 2., 2.,  ..., 0., 0., 0.],\n",
       "          [2., 2., 2.,  ..., 0., 0., 0.],\n",
       "          [2., 2., 2.,  ..., 0., 0., 0.]])})"
      ]
     },
     "execution_count": 12,
     "metadata": {},
     "output_type": "execute_result"
    }
   ],
   "source": [
    "data"
   ]
  },
  {
   "cell_type": "code",
   "execution_count": 13,
   "metadata": {},
   "outputs": [
    {
     "data": {
      "text/plain": [
       "tensor([[ 3.6928e+00,  1.3640e-02, -1.6618e-03],\n",
       "        [ 7.4971e+00,  2.2371e-02, -2.2717e-03],\n",
       "        [ 1.1372e+01, -9.8581e-03, -2.1750e-03],\n",
       "        [ 1.5332e+01, -3.3419e-02, -2.8064e-03],\n",
       "        [ 1.9347e+01, -5.1332e-02, -2.8773e-03],\n",
       "        [ 2.3422e+01, -6.1071e-02, -2.7041e-03],\n",
       "        [ 2.7508e+01, -8.1003e-02, -2.8067e-03],\n",
       "        [ 3.1510e+01, -9.8640e-02, -2.1192e-03]], dtype=torch.float64)"
      ]
     },
     "execution_count": 13,
     "metadata": {},
     "output_type": "execute_result"
    }
   ],
   "source": [
    "data1[1][\"trajectory\"]"
   ]
  },
  {
   "cell_type": "code",
   "execution_count": 14,
   "metadata": {},
   "outputs": [
    {
     "data": {
      "text/plain": [
       "tensor([[ 1.8449, -0.0883, -0.1092],\n",
       "        [ 3.6463, -0.4023, -0.2398],\n",
       "        [ 5.3686, -0.9523, -0.3889],\n",
       "        [ 7.0978, -1.7980, -0.5564],\n",
       "        [ 8.7931, -3.0453, -0.7379],\n",
       "        [10.3725, -4.7149, -0.9012],\n",
       "        [11.8347, -6.7531, -0.9963],\n",
       "        [13.2534, -9.0238, -1.0544]], dtype=torch.float64)"
      ]
     },
     "execution_count": 14,
     "metadata": {},
     "output_type": "execute_result"
    }
   ],
   "source": [
    "data[1][\"trajectory\"]"
   ]
  },
  {
   "cell_type": "code",
   "execution_count": 15,
   "metadata": {},
   "outputs": [
    {
     "data": {
      "text/plain": [
       "torch.Size([3, 256, 1024])"
      ]
     },
     "execution_count": 15,
     "metadata": {},
     "output_type": "execute_result"
    }
   ],
   "source": [
    "data[0][\"camera_feature\"].shape"
   ]
  },
  {
   "cell_type": "code",
   "execution_count": 16,
   "metadata": {},
   "outputs": [
    {
     "data": {
      "text/plain": [
       "torch.Size([1, 256, 256])"
      ]
     },
     "execution_count": 16,
     "metadata": {},
     "output_type": "execute_result"
    }
   ],
   "source": [
    "data[0][\"lidar_feature\"].shape"
   ]
  },
  {
   "cell_type": "code",
   "execution_count": 17,
   "metadata": {},
   "outputs": [
    {
     "data": {
      "text/plain": [
       "torch.Size([8])"
      ]
     },
     "execution_count": 17,
     "metadata": {},
     "output_type": "execute_result"
    }
   ],
   "source": [
    "data[0][\"status_feature\"].shape"
   ]
  },
  {
   "cell_type": "code",
   "execution_count": 18,
   "metadata": {},
   "outputs": [
    {
     "data": {
      "text/plain": [
       "torch.Size([30, 5])"
      ]
     },
     "execution_count": 18,
     "metadata": {},
     "output_type": "execute_result"
    }
   ],
   "source": [
    "data[1][\"agent_states\"].shape"
   ]
  },
  {
   "cell_type": "code",
   "execution_count": 19,
   "metadata": {},
   "outputs": [],
   "source": [
    "\n",
    "train_dataloader = DataLoader(train_data, **cfg.dataloader.params, shuffle=True)\n",
    "\n",
    "val_dataloader = DataLoader(val_data, **cfg.dataloader.params, shuffle=False)\n",
    "\n"
   ]
  },
  {
   "cell_type": "code",
   "execution_count": 20,
   "metadata": {},
   "outputs": [
    {
     "name": "stderr",
     "output_type": "stream",
     "text": [
      "Using 16bit Automatic Mixed Precision (AMP)\n"
     ]
    },
    {
     "ename": "MisconfigurationException",
     "evalue": "`Trainer(strategy='ddp')` is not compatible with an interactive environment. Run your code as a script, or choose a notebook-compatible strategy: `Trainer(strategy='ddp_notebook')`. In case you are spawning processes yourself, make sure to include the Trainer creation inside the worker function.",
     "output_type": "error",
     "traceback": [
      "\u001b[0;31m---------------------------------------------------------------------------\u001b[0m",
      "\u001b[0;31mMisconfigurationException\u001b[0m                 Traceback (most recent call last)",
      "Cell \u001b[0;32mIn[20], line 1\u001b[0m\n\u001b[0;32m----> 1\u001b[0m trainer \u001b[38;5;241m=\u001b[39m \u001b[43mpl\u001b[49m\u001b[38;5;241;43m.\u001b[39;49m\u001b[43mTrainer\u001b[49m\u001b[43m(\u001b[49m\u001b[38;5;241;43m*\u001b[39;49m\u001b[38;5;241;43m*\u001b[39;49m\u001b[43mcfg\u001b[49m\u001b[38;5;241;43m.\u001b[39;49m\u001b[43mtrainer\u001b[49m\u001b[38;5;241;43m.\u001b[39;49m\u001b[43mparams\u001b[49m\u001b[43m,\u001b[49m\u001b[43m \u001b[49m\u001b[43mcallbacks\u001b[49m\u001b[38;5;241;43m=\u001b[39;49m\u001b[43magent\u001b[49m\u001b[38;5;241;43m.\u001b[39;49m\u001b[43mget_training_callbacks\u001b[49m\u001b[43m(\u001b[49m\u001b[43m)\u001b[49m\u001b[43m)\u001b[49m\n",
      "File \u001b[0;32m~/miniconda3/envs/navsim/lib/python3.9/site-packages/pytorch_lightning/utilities/argparse.py:70\u001b[0m, in \u001b[0;36m_defaults_from_env_vars.<locals>.insert_env_defaults\u001b[0;34m(self, *args, **kwargs)\u001b[0m\n\u001b[1;32m     67\u001b[0m kwargs \u001b[38;5;241m=\u001b[39m \u001b[38;5;28mdict\u001b[39m(\u001b[38;5;28mlist\u001b[39m(env_variables\u001b[38;5;241m.\u001b[39mitems()) \u001b[38;5;241m+\u001b[39m \u001b[38;5;28mlist\u001b[39m(kwargs\u001b[38;5;241m.\u001b[39mitems()))\n\u001b[1;32m     69\u001b[0m \u001b[38;5;66;03m# all args were already moved to kwargs\u001b[39;00m\n\u001b[0;32m---> 70\u001b[0m \u001b[38;5;28;01mreturn\u001b[39;00m \u001b[43mfn\u001b[49m\u001b[43m(\u001b[49m\u001b[38;5;28;43mself\u001b[39;49m\u001b[43m,\u001b[49m\u001b[43m \u001b[49m\u001b[38;5;241;43m*\u001b[39;49m\u001b[38;5;241;43m*\u001b[39;49m\u001b[43mkwargs\u001b[49m\u001b[43m)\u001b[49m\n",
      "File \u001b[0;32m~/miniconda3/envs/navsim/lib/python3.9/site-packages/pytorch_lightning/trainer/trainer.py:401\u001b[0m, in \u001b[0;36mTrainer.__init__\u001b[0;34m(self, accelerator, strategy, devices, num_nodes, precision, logger, callbacks, fast_dev_run, max_epochs, min_epochs, max_steps, min_steps, max_time, limit_train_batches, limit_val_batches, limit_test_batches, limit_predict_batches, overfit_batches, val_check_interval, check_val_every_n_epoch, num_sanity_val_steps, log_every_n_steps, enable_checkpointing, enable_progress_bar, enable_model_summary, accumulate_grad_batches, gradient_clip_val, gradient_clip_algorithm, deterministic, benchmark, inference_mode, use_distributed_sampler, profiler, detect_anomaly, barebones, plugins, sync_batchnorm, reload_dataloaders_every_n_epochs, default_root_dir)\u001b[0m\n\u001b[1;32m    398\u001b[0m \u001b[38;5;66;03m# init connectors\u001b[39;00m\n\u001b[1;32m    399\u001b[0m \u001b[38;5;28mself\u001b[39m\u001b[38;5;241m.\u001b[39m_data_connector \u001b[38;5;241m=\u001b[39m _DataConnector(\u001b[38;5;28mself\u001b[39m)\n\u001b[0;32m--> 401\u001b[0m \u001b[38;5;28mself\u001b[39m\u001b[38;5;241m.\u001b[39m_accelerator_connector \u001b[38;5;241m=\u001b[39m \u001b[43m_AcceleratorConnector\u001b[49m\u001b[43m(\u001b[49m\n\u001b[1;32m    402\u001b[0m \u001b[43m    \u001b[49m\u001b[43mdevices\u001b[49m\u001b[38;5;241;43m=\u001b[39;49m\u001b[43mdevices\u001b[49m\u001b[43m,\u001b[49m\n\u001b[1;32m    403\u001b[0m \u001b[43m    \u001b[49m\u001b[43maccelerator\u001b[49m\u001b[38;5;241;43m=\u001b[39;49m\u001b[43maccelerator\u001b[49m\u001b[43m,\u001b[49m\n\u001b[1;32m    404\u001b[0m \u001b[43m    \u001b[49m\u001b[43mstrategy\u001b[49m\u001b[38;5;241;43m=\u001b[39;49m\u001b[43mstrategy\u001b[49m\u001b[43m,\u001b[49m\n\u001b[1;32m    405\u001b[0m \u001b[43m    \u001b[49m\u001b[43mnum_nodes\u001b[49m\u001b[38;5;241;43m=\u001b[39;49m\u001b[43mnum_nodes\u001b[49m\u001b[43m,\u001b[49m\n\u001b[1;32m    406\u001b[0m \u001b[43m    \u001b[49m\u001b[43msync_batchnorm\u001b[49m\u001b[38;5;241;43m=\u001b[39;49m\u001b[43msync_batchnorm\u001b[49m\u001b[43m,\u001b[49m\n\u001b[1;32m    407\u001b[0m \u001b[43m    \u001b[49m\u001b[43mbenchmark\u001b[49m\u001b[38;5;241;43m=\u001b[39;49m\u001b[43mbenchmark\u001b[49m\u001b[43m,\u001b[49m\n\u001b[1;32m    408\u001b[0m \u001b[43m    \u001b[49m\u001b[43muse_distributed_sampler\u001b[49m\u001b[38;5;241;43m=\u001b[39;49m\u001b[43muse_distributed_sampler\u001b[49m\u001b[43m,\u001b[49m\n\u001b[1;32m    409\u001b[0m \u001b[43m    \u001b[49m\u001b[43mdeterministic\u001b[49m\u001b[38;5;241;43m=\u001b[39;49m\u001b[43mdeterministic\u001b[49m\u001b[43m,\u001b[49m\n\u001b[1;32m    410\u001b[0m \u001b[43m    \u001b[49m\u001b[43mprecision\u001b[49m\u001b[38;5;241;43m=\u001b[39;49m\u001b[43mprecision\u001b[49m\u001b[43m,\u001b[49m\n\u001b[1;32m    411\u001b[0m \u001b[43m    \u001b[49m\u001b[43mplugins\u001b[49m\u001b[38;5;241;43m=\u001b[39;49m\u001b[43mplugins\u001b[49m\u001b[43m,\u001b[49m\n\u001b[1;32m    412\u001b[0m \u001b[43m\u001b[49m\u001b[43m)\u001b[49m\n\u001b[1;32m    413\u001b[0m \u001b[38;5;28mself\u001b[39m\u001b[38;5;241m.\u001b[39m_logger_connector \u001b[38;5;241m=\u001b[39m _LoggerConnector(\u001b[38;5;28mself\u001b[39m)\n\u001b[1;32m    414\u001b[0m \u001b[38;5;28mself\u001b[39m\u001b[38;5;241m.\u001b[39m_callback_connector \u001b[38;5;241m=\u001b[39m _CallbackConnector(\u001b[38;5;28mself\u001b[39m)\n",
      "File \u001b[0;32m~/miniconda3/envs/navsim/lib/python3.9/site-packages/pytorch_lightning/trainer/connectors/accelerator_connector.py:166\u001b[0m, in \u001b[0;36m_AcceleratorConnector.__init__\u001b[0;34m(self, devices, num_nodes, accelerator, strategy, plugins, precision, sync_batchnorm, benchmark, use_distributed_sampler, deterministic)\u001b[0m\n\u001b[1;32m    163\u001b[0m \u001b[38;5;28mself\u001b[39m\u001b[38;5;241m.\u001b[39mprecision_plugin \u001b[38;5;241m=\u001b[39m \u001b[38;5;28mself\u001b[39m\u001b[38;5;241m.\u001b[39m_check_and_init_precision()\n\u001b[1;32m    165\u001b[0m \u001b[38;5;66;03m# 6. Instantiate Strategy - Part 2\u001b[39;00m\n\u001b[0;32m--> 166\u001b[0m \u001b[38;5;28;43mself\u001b[39;49m\u001b[38;5;241;43m.\u001b[39;49m\u001b[43m_lazy_init_strategy\u001b[49m\u001b[43m(\u001b[49m\u001b[43m)\u001b[49m\n",
      "File \u001b[0;32m~/miniconda3/envs/navsim/lib/python3.9/site-packages/pytorch_lightning/trainer/connectors/accelerator_connector.py:610\u001b[0m, in \u001b[0;36m_AcceleratorConnector._lazy_init_strategy\u001b[0;34m(self)\u001b[0m\n\u001b[1;32m    607\u001b[0m \u001b[38;5;28mself\u001b[39m\u001b[38;5;241m.\u001b[39mstrategy\u001b[38;5;241m.\u001b[39m_configure_launcher()\n\u001b[1;32m    609\u001b[0m \u001b[38;5;28;01mif\u001b[39;00m _IS_INTERACTIVE \u001b[38;5;129;01mand\u001b[39;00m \u001b[38;5;28mself\u001b[39m\u001b[38;5;241m.\u001b[39mstrategy\u001b[38;5;241m.\u001b[39mlauncher \u001b[38;5;129;01mand\u001b[39;00m \u001b[38;5;129;01mnot\u001b[39;00m \u001b[38;5;28mself\u001b[39m\u001b[38;5;241m.\u001b[39mstrategy\u001b[38;5;241m.\u001b[39mlauncher\u001b[38;5;241m.\u001b[39mis_interactive_compatible:\n\u001b[0;32m--> 610\u001b[0m     \u001b[38;5;28;01mraise\u001b[39;00m MisconfigurationException(\n\u001b[1;32m    611\u001b[0m         \u001b[38;5;124mf\u001b[39m\u001b[38;5;124m\"\u001b[39m\u001b[38;5;124m`Trainer(strategy=\u001b[39m\u001b[38;5;132;01m{\u001b[39;00m\u001b[38;5;28mself\u001b[39m\u001b[38;5;241m.\u001b[39m_strategy_flag\u001b[38;5;132;01m!r}\u001b[39;00m\u001b[38;5;124m)` is not compatible with an interactive\u001b[39m\u001b[38;5;124m\"\u001b[39m\n\u001b[1;32m    612\u001b[0m         \u001b[38;5;124m\"\u001b[39m\u001b[38;5;124m environment. Run your code as a script, or choose a notebook-compatible strategy:\u001b[39m\u001b[38;5;124m\"\u001b[39m\n\u001b[1;32m    613\u001b[0m         \u001b[38;5;124mf\u001b[39m\u001b[38;5;124m\"\u001b[39m\u001b[38;5;124m `Trainer(strategy=\u001b[39m\u001b[38;5;124m'\u001b[39m\u001b[38;5;124mddp_notebook\u001b[39m\u001b[38;5;124m'\u001b[39m\u001b[38;5;124m)`.\u001b[39m\u001b[38;5;124m\"\u001b[39m\n\u001b[1;32m    614\u001b[0m         \u001b[38;5;124m\"\u001b[39m\u001b[38;5;124m In case you are spawning processes yourself, make sure to include the Trainer\u001b[39m\u001b[38;5;124m\"\u001b[39m\n\u001b[1;32m    615\u001b[0m         \u001b[38;5;124m\"\u001b[39m\u001b[38;5;124m creation inside the worker function.\u001b[39m\u001b[38;5;124m\"\u001b[39m\n\u001b[1;32m    616\u001b[0m     )\n\u001b[1;32m    618\u001b[0m \u001b[38;5;66;03m# TODO: should be moved to _check_strategy_and_fallback().\u001b[39;00m\n\u001b[1;32m    619\u001b[0m \u001b[38;5;66;03m# Current test check precision first, so keep this check here to meet error order\u001b[39;00m\n\u001b[1;32m    620\u001b[0m \u001b[38;5;28;01mif\u001b[39;00m \u001b[38;5;28misinstance\u001b[39m(\u001b[38;5;28mself\u001b[39m\u001b[38;5;241m.\u001b[39maccelerator, XLAAccelerator) \u001b[38;5;129;01mand\u001b[39;00m \u001b[38;5;129;01mnot\u001b[39;00m \u001b[38;5;28misinstance\u001b[39m(\n\u001b[1;32m    621\u001b[0m     \u001b[38;5;28mself\u001b[39m\u001b[38;5;241m.\u001b[39mstrategy, (SingleDeviceXLAStrategy, XLAStrategy)\n\u001b[1;32m    622\u001b[0m ):\n",
      "\u001b[0;31mMisconfigurationException\u001b[0m: `Trainer(strategy='ddp')` is not compatible with an interactive environment. Run your code as a script, or choose a notebook-compatible strategy: `Trainer(strategy='ddp_notebook')`. In case you are spawning processes yourself, make sure to include the Trainer creation inside the worker function."
     ]
    }
   ],
   "source": [
    "trainer = pl.Trainer(**cfg.trainer.params, callbacks=agent.get_training_callbacks())"
   ]
  }
 ],
 "metadata": {
  "kernelspec": {
   "display_name": "navsim",
   "language": "python",
   "name": "python3"
  },
  "language_info": {
   "codemirror_mode": {
    "name": "ipython",
    "version": 3
   },
   "file_extension": ".py",
   "mimetype": "text/x-python",
   "name": "python",
   "nbconvert_exporter": "python",
   "pygments_lexer": "ipython3",
   "version": "3.9.19"
  }
 },
 "nbformat": 4,
 "nbformat_minor": 2
}
