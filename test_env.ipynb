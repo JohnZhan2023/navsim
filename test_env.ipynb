{
 "cells": [
  {
   "cell_type": "code",
   "execution_count": 1,
   "metadata": {},
   "outputs": [
    {
     "name": "stderr",
     "output_type": "stream",
     "text": [
      "/root/miniconda3/envs/navsim/lib/python3.9/site-packages/tqdm/auto.py:21: TqdmWarning: IProgress not found. Please update jupyter and ipywidgets. See https://ipywidgets.readthedocs.io/en/stable/user_install.html\n",
      "  from .autonotebook import tqdm as notebook_tqdm\n"
     ]
    }
   ],
   "source": [
    "from typing import Tuple\n",
    "import hydra\n",
    "from hydra.utils import instantiate\n",
    "import logging\n",
    "from omegaconf import DictConfig\n",
    "from pathlib import Path\n",
    "import pytorch_lightning as pl\n",
    "from torch.utils.data import DataLoader\n",
    "\n",
    "from navsim.planning.training.dataset import CacheOnlyDataset, Dataset\n",
    "from navsim.planning.training.agent_lightning_module import AgentLightningModule\n",
    "from navsim.common.dataloader import SceneLoader\n",
    "from navsim.common.dataclasses import SceneFilter\n",
    "from navsim.agents.abstract_agent import AbstractAgent"
   ]
  },
  {
   "cell_type": "code",
   "execution_count": 2,
   "metadata": {},
   "outputs": [],
   "source": [
    "\n",
    "def build_datasets(cfg: DictConfig, agent: AbstractAgent) -> Tuple[Dataset, Dataset]:\n",
    "    train_scene_filter: SceneFilter = instantiate(cfg.scene_filter)\n",
    "    if train_scene_filter.log_names is not None:\n",
    "        train_scene_filter.log_names = [l for l in train_scene_filter.log_names if l in cfg.train_logs]\n",
    "    else:\n",
    "        train_scene_filter.log_names = cfg.train_logs\n",
    "\n",
    "    val_scene_filter: SceneFilter = instantiate(cfg.scene_filter)\n",
    "    if val_scene_filter.log_names is not None:\n",
    "        val_scene_filter.log_names = [l for l in val_scene_filter.log_names if l in cfg.val_logs]\n",
    "    else:\n",
    "        val_scene_filter.log_names = cfg.val_logs\n",
    "\n",
    "    data_path = Path(cfg.navsim_log_path)\n",
    "    sensor_blobs_path = Path(cfg.sensor_blobs_path)\n",
    "\n",
    "    train_scene_loader = SceneLoader(\n",
    "        sensor_blobs_path=sensor_blobs_path,\n",
    "        data_path=data_path,\n",
    "        scene_filter=train_scene_filter,\n",
    "        sensor_config=agent.get_sensor_config(),\n",
    "    )\n",
    "\n",
    "    val_scene_loader = SceneLoader(\n",
    "        sensor_blobs_path=sensor_blobs_path,\n",
    "        data_path=data_path,\n",
    "        scene_filter=val_scene_filter,\n",
    "        sensor_config=agent.get_sensor_config(),\n",
    "    )\n",
    "\n",
    "    train_data = Dataset(\n",
    "        scene_loader=train_scene_loader,\n",
    "        feature_builders=agent.get_feature_builders(),\n",
    "        target_builders=agent.get_target_builders(),\n",
    "        cache_path=cfg.cache_path,\n",
    "        force_cache_computation=cfg.force_cache_computation,\n",
    "    )\n",
    "\n",
    "    val_data = Dataset(\n",
    "        scene_loader=val_scene_loader,\n",
    "        feature_builders=agent.get_feature_builders(),\n",
    "        target_builders=agent.get_target_builders(),\n",
    "        cache_path=cfg.cache_path,\n",
    "        force_cache_computation=cfg.force_cache_computation,\n",
    "    )\n",
    "\n",
    "    return train_data, val_data"
   ]
  },
  {
   "cell_type": "code",
   "execution_count": 3,
   "metadata": {},
   "outputs": [],
   "source": [
    "from omegaconf import OmegaConf\n",
    "cfg = OmegaConf.load(\"/root/navsim/cfg.yaml\")"
   ]
  },
  {
   "cell_type": "code",
   "execution_count": 4,
   "metadata": {},
   "outputs": [
    {
     "name": "stderr",
     "output_type": "stream",
     "text": [
      "Seed set to 0\n"
     ]
    },
    {
     "data": {
      "text/plain": [
       "0"
      ]
     },
     "execution_count": 4,
     "metadata": {},
     "output_type": "execute_result"
    }
   ],
   "source": [
    "pl.seed_everything(0, workers=True)"
   ]
  },
  {
   "cell_type": "code",
   "execution_count": 5,
   "metadata": {},
   "outputs": [
    {
     "name": "stderr",
     "output_type": "stream",
     "text": [
      "2024-05-11 20:37:39.178806: I external/local_tsl/tsl/cuda/cudart_stub.cc:32] Could not find cuda drivers on your machine, GPU will not be used.\n",
      "2024-05-11 20:37:39.228410: I tensorflow/core/platform/cpu_feature_guard.cc:210] This TensorFlow binary is optimized to use available CPU instructions in performance-critical operations.\n",
      "To enable the following instructions: AVX2 FMA, in other operations, rebuild TensorFlow with the appropriate compiler flags.\n",
      "2024-05-11 20:37:40.023526: W tensorflow/compiler/tf2tensorrt/utils/py_utils.cc:38] TF-TRT Warning: Could not find TensorRT\n"
     ]
    },
    {
     "name": "stdout",
     "output_type": "stream",
     "text": [
      "initializing human agent...\n"
     ]
    }
   ],
   "source": [
    "agent: AbstractAgent = instantiate(cfg.agent)"
   ]
  },
  {
   "cell_type": "code",
   "execution_count": 6,
   "metadata": {},
   "outputs": [],
   "source": [
    "lightning_module = AgentLightningModule(\n",
    "        agent=agent,\n",
    "    )"
   ]
  },
  {
   "cell_type": "code",
   "execution_count": 7,
   "metadata": {},
   "outputs": [
    {
     "name": "stderr",
     "output_type": "stream",
     "text": [
      "Loading logs: 100%|██████████| 44/44 [00:03<00:00, 13.88it/s]\n",
      "Loading logs: 100%|██████████| 10/10 [00:00<00:00, 22.43it/s]\n"
     ]
    }
   ],
   "source": [
    "train_data, val_data = build_datasets(cfg, agent)"
   ]
  },
  {
   "cell_type": "code",
   "execution_count": null,
   "metadata": {},
   "outputs": [],
   "source": []
  },
  {
   "cell_type": "code",
   "execution_count": 8,
   "metadata": {},
   "outputs": [],
   "source": [
    "train_dataloader = DataLoader(train_data, **cfg.dataloader.params, shuffle=True)"
   ]
  },
  {
   "cell_type": "code",
   "execution_count": 9,
   "metadata": {},
   "outputs": [],
   "source": [
    "val_dataloader = DataLoader(val_data, **cfg.dataloader.params, shuffle=False)"
   ]
  },
  {
   "cell_type": "code",
   "execution_count": 10,
   "metadata": {},
   "outputs": [
    {
     "name": "stdout",
     "output_type": "stream",
     "text": [
      "cache None\n"
     ]
    },
    {
     "ename": "TypeError",
     "evalue": "stat: path should be string, bytes, os.PathLike or integer, not NoneType",
     "output_type": "error",
     "traceback": [
      "\u001b[0;31m---------------------------------------------------------------------------\u001b[0m",
      "\u001b[0;31mTypeError\u001b[0m                                 Traceback (most recent call last)",
      "Cell \u001b[0;32mIn[10], line 1\u001b[0m\n\u001b[0;32m----> 1\u001b[0m data\u001b[38;5;241m=\u001b[39m\u001b[43mtrain_data\u001b[49m\u001b[43m[\u001b[49m\u001b[38;5;241;43m0\u001b[39;49m\u001b[43m]\u001b[49m\n",
      "File \u001b[0;32m~/navsim/navsim/planning/training/dataset.py:236\u001b[0m, in \u001b[0;36mDataset.__getitem__\u001b[0;34m(self, idx)\u001b[0m\n\u001b[1;32m    234\u001b[0m     features, targets \u001b[38;5;241m=\u001b[39m \u001b[38;5;28mself\u001b[39m\u001b[38;5;241m.\u001b[39m_load_scene_with_token(token)\n\u001b[1;32m    235\u001b[0m \u001b[38;5;28;01melse\u001b[39;00m:\n\u001b[0;32m--> 236\u001b[0m     scene \u001b[38;5;241m=\u001b[39m \u001b[38;5;28;43mself\u001b[39;49m\u001b[38;5;241;43m.\u001b[39;49m\u001b[43m_scene_loader\u001b[49m\u001b[38;5;241;43m.\u001b[39;49m\u001b[43mget_scene_from_token\u001b[49m\u001b[43m(\u001b[49m\u001b[38;5;28;43mself\u001b[39;49m\u001b[38;5;241;43m.\u001b[39;49m\u001b[43m_scene_loader\u001b[49m\u001b[38;5;241;43m.\u001b[39;49m\u001b[43mtokens\u001b[49m\u001b[43m[\u001b[49m\u001b[43midx\u001b[49m\u001b[43m]\u001b[49m\u001b[43m)\u001b[49m\n\u001b[1;32m    237\u001b[0m     agent_input \u001b[38;5;241m=\u001b[39m scene\u001b[38;5;241m.\u001b[39mget_agent_input()\n\u001b[1;32m    238\u001b[0m     \u001b[38;5;28;01mfor\u001b[39;00m builder \u001b[38;5;129;01min\u001b[39;00m \u001b[38;5;28mself\u001b[39m\u001b[38;5;241m.\u001b[39m_feature_builders:\n",
      "File \u001b[0;32m~/navsim/navsim/common/dataloader.py:100\u001b[0m, in \u001b[0;36mSceneLoader.get_scene_from_token\u001b[0;34m(self, token)\u001b[0m\n\u001b[1;32m     98\u001b[0m \u001b[38;5;28;01mdef\u001b[39;00m \u001b[38;5;21mget_scene_from_token\u001b[39m(\u001b[38;5;28mself\u001b[39m, token: \u001b[38;5;28mstr\u001b[39m) \u001b[38;5;241m-\u001b[39m\u001b[38;5;241m>\u001b[39m Scene:\n\u001b[1;32m     99\u001b[0m     \u001b[38;5;28;01massert\u001b[39;00m token \u001b[38;5;129;01min\u001b[39;00m \u001b[38;5;28mself\u001b[39m\u001b[38;5;241m.\u001b[39mtokens\n\u001b[0;32m--> 100\u001b[0m     \u001b[38;5;28;01mreturn\u001b[39;00m \u001b[43mScene\u001b[49m\u001b[38;5;241;43m.\u001b[39;49m\u001b[43mfrom_scene_dict_list\u001b[49m\u001b[43m(\u001b[49m\n\u001b[1;32m    101\u001b[0m \u001b[43m        \u001b[49m\u001b[38;5;28;43mself\u001b[39;49m\u001b[38;5;241;43m.\u001b[39;49m\u001b[43mscene_frames_dicts\u001b[49m\u001b[43m[\u001b[49m\u001b[43mtoken\u001b[49m\u001b[43m]\u001b[49m\u001b[43m,\u001b[49m\n\u001b[1;32m    102\u001b[0m \u001b[43m        \u001b[49m\u001b[38;5;28;43mself\u001b[39;49m\u001b[38;5;241;43m.\u001b[39;49m\u001b[43m_sensor_blobs_path\u001b[49m\u001b[43m,\u001b[49m\n\u001b[1;32m    103\u001b[0m \u001b[43m        \u001b[49m\u001b[43mnum_history_frames\u001b[49m\u001b[38;5;241;43m=\u001b[39;49m\u001b[38;5;28;43mself\u001b[39;49m\u001b[38;5;241;43m.\u001b[39;49m\u001b[43m_scene_filter\u001b[49m\u001b[38;5;241;43m.\u001b[39;49m\u001b[43mnum_history_frames\u001b[49m\u001b[43m,\u001b[49m\n\u001b[1;32m    104\u001b[0m \u001b[43m        \u001b[49m\u001b[43mnum_future_frames\u001b[49m\u001b[38;5;241;43m=\u001b[39;49m\u001b[38;5;28;43mself\u001b[39;49m\u001b[38;5;241;43m.\u001b[39;49m\u001b[43m_scene_filter\u001b[49m\u001b[38;5;241;43m.\u001b[39;49m\u001b[43mnum_future_frames\u001b[49m\u001b[43m,\u001b[49m\n\u001b[1;32m    105\u001b[0m \u001b[43m        \u001b[49m\u001b[43msensor_config\u001b[49m\u001b[38;5;241;43m=\u001b[39;49m\u001b[38;5;28;43mself\u001b[39;49m\u001b[38;5;241;43m.\u001b[39;49m\u001b[43m_sensor_config\u001b[49m\u001b[43m,\u001b[49m\n\u001b[1;32m    106\u001b[0m \u001b[43m    \u001b[49m\u001b[43m)\u001b[49m\n",
      "File \u001b[0;32m~/navsim/navsim/common/dataclasses.py:389\u001b[0m, in \u001b[0;36mScene.from_scene_dict_list\u001b[0;34m(cls, scene_dict_list, sensor_blobs_path, num_history_frames, num_future_frames, sensor_config)\u001b[0m\n\u001b[1;32m    379\u001b[0m \u001b[38;5;28;01massert\u001b[39;00m \u001b[38;5;28mlen\u001b[39m(scene_dict_list) \u001b[38;5;241m>\u001b[39m\u001b[38;5;241m=\u001b[39m \u001b[38;5;241m0\u001b[39m, \u001b[38;5;124m\"\u001b[39m\u001b[38;5;124mScene list is empty!\u001b[39m\u001b[38;5;124m\"\u001b[39m\n\u001b[1;32m    381\u001b[0m scene_metadata \u001b[38;5;241m=\u001b[39m SceneMetadata(\n\u001b[1;32m    382\u001b[0m     log_name\u001b[38;5;241m=\u001b[39mscene_dict_list[num_history_frames \u001b[38;5;241m-\u001b[39m \u001b[38;5;241m1\u001b[39m][\u001b[38;5;124m\"\u001b[39m\u001b[38;5;124mlog_name\u001b[39m\u001b[38;5;124m\"\u001b[39m],\n\u001b[1;32m    383\u001b[0m     scene_token\u001b[38;5;241m=\u001b[39mscene_dict_list[num_history_frames \u001b[38;5;241m-\u001b[39m \u001b[38;5;241m1\u001b[39m][\u001b[38;5;124m\"\u001b[39m\u001b[38;5;124mscene_token\u001b[39m\u001b[38;5;124m\"\u001b[39m],\n\u001b[0;32m   (...)\u001b[0m\n\u001b[1;32m    387\u001b[0m     num_future_frames\u001b[38;5;241m=\u001b[39mnum_future_frames,\n\u001b[1;32m    388\u001b[0m )\n\u001b[0;32m--> 389\u001b[0m map_api \u001b[38;5;241m=\u001b[39m \u001b[38;5;28;43mcls\u001b[39;49m\u001b[38;5;241;43m.\u001b[39;49m\u001b[43m_build_map_api\u001b[49m\u001b[43m(\u001b[49m\u001b[43mscene_metadata\u001b[49m\u001b[38;5;241;43m.\u001b[39;49m\u001b[43mmap_name\u001b[49m\u001b[43m)\u001b[49m\n\u001b[1;32m    391\u001b[0m frames: List[Frame] \u001b[38;5;241m=\u001b[39m []\n\u001b[1;32m    392\u001b[0m \u001b[38;5;28;01mfor\u001b[39;00m frame_idx \u001b[38;5;129;01min\u001b[39;00m \u001b[38;5;28mrange\u001b[39m(\u001b[38;5;28mlen\u001b[39m(scene_dict_list)):\n",
      "File \u001b[0;32m~/navsim/navsim/common/dataclasses.py:335\u001b[0m, in \u001b[0;36mScene._build_map_api\u001b[0;34m(cls, map_name)\u001b[0m\n\u001b[1;32m    330\u001b[0m \u001b[38;5;129m@classmethod\u001b[39m\n\u001b[1;32m    331\u001b[0m \u001b[38;5;28;01mdef\u001b[39;00m \u001b[38;5;21m_build_map_api\u001b[39m(\u001b[38;5;28mcls\u001b[39m, map_name: \u001b[38;5;28mstr\u001b[39m) \u001b[38;5;241m-\u001b[39m\u001b[38;5;241m>\u001b[39m AbstractMap:\n\u001b[1;32m    332\u001b[0m     \u001b[38;5;28;01massert\u001b[39;00m (\n\u001b[1;32m    333\u001b[0m         map_name \u001b[38;5;129;01min\u001b[39;00m MAP_LOCATIONS\n\u001b[1;32m    334\u001b[0m     ), \u001b[38;5;124mf\u001b[39m\u001b[38;5;124m\"\u001b[39m\u001b[38;5;124mThe map name \u001b[39m\u001b[38;5;132;01m{\u001b[39;00mmap_name\u001b[38;5;132;01m}\u001b[39;00m\u001b[38;5;124m is invalid, must be in \u001b[39m\u001b[38;5;132;01m{\u001b[39;00mMAP_LOCATIONS\u001b[38;5;132;01m}\u001b[39;00m\u001b[38;5;124m\"\u001b[39m\n\u001b[0;32m--> 335\u001b[0m     \u001b[38;5;28;01mreturn\u001b[39;00m \u001b[43mget_maps_api\u001b[49m\u001b[43m(\u001b[49m\u001b[43mNUPLAN_MAPS_ROOT\u001b[49m\u001b[43m,\u001b[49m\u001b[43m \u001b[49m\u001b[38;5;124;43m\"\u001b[39;49m\u001b[38;5;124;43mnuplan-maps-v1.0\u001b[39;49m\u001b[38;5;124;43m\"\u001b[39;49m\u001b[43m,\u001b[49m\u001b[43m \u001b[49m\u001b[43mmap_name\u001b[49m\u001b[43m)\u001b[49m\n",
      "File \u001b[0;32m~/miniconda3/envs/navsim/lib/python3.9/site-packages/nuplan/common/maps/nuplan_map/map_factory.py:60\u001b[0m, in \u001b[0;36mget_maps_api\u001b[0;34m(map_root, map_version, map_name)\u001b[0m\n\u001b[1;32m     51\u001b[0m \u001b[38;5;129m@lru_cache\u001b[39m(maxsize\u001b[38;5;241m=\u001b[39m\u001b[38;5;241m32\u001b[39m)\n\u001b[1;32m     52\u001b[0m \u001b[38;5;28;01mdef\u001b[39;00m \u001b[38;5;21mget_maps_api\u001b[39m(map_root: \u001b[38;5;28mstr\u001b[39m, map_version: \u001b[38;5;28mstr\u001b[39m, map_name: \u001b[38;5;28mstr\u001b[39m) \u001b[38;5;241m-\u001b[39m\u001b[38;5;241m>\u001b[39m NuPlanMap:\n\u001b[1;32m     53\u001b[0m \u001b[38;5;250m    \u001b[39m\u001b[38;5;124;03m\"\"\"\u001b[39;00m\n\u001b[1;32m     54\u001b[0m \u001b[38;5;124;03m    Get a NuPlanMap object corresponding to a particular set of parameters.\u001b[39;00m\n\u001b[1;32m     55\u001b[0m \u001b[38;5;124;03m    :param map_root: The root folder for the map data.\u001b[39;00m\n\u001b[0;32m   (...)\u001b[0m\n\u001b[1;32m     58\u001b[0m \u001b[38;5;124;03m    :return: The loaded NuPlanMap object.\u001b[39;00m\n\u001b[1;32m     59\u001b[0m \u001b[38;5;124;03m    \"\"\"\u001b[39;00m\n\u001b[0;32m---> 60\u001b[0m     maps_db \u001b[38;5;241m=\u001b[39m \u001b[43mget_maps_db\u001b[49m\u001b[43m(\u001b[49m\u001b[43mmap_root\u001b[49m\u001b[43m,\u001b[49m\u001b[43m \u001b[49m\u001b[43mmap_version\u001b[49m\u001b[43m)\u001b[49m\n\u001b[1;32m     61\u001b[0m     \u001b[38;5;28;01mreturn\u001b[39;00m NuPlanMap(maps_db, map_name\u001b[38;5;241m.\u001b[39mreplace(\u001b[38;5;124m\"\u001b[39m\u001b[38;5;124m.gpkg\u001b[39m\u001b[38;5;124m\"\u001b[39m, \u001b[38;5;124m\"\u001b[39m\u001b[38;5;124m\"\u001b[39m))\n",
      "File \u001b[0;32m~/miniconda3/envs/navsim/lib/python3.9/site-packages/nuplan/common/maps/nuplan_map/map_factory.py:48\u001b[0m, in \u001b[0;36mget_maps_db\u001b[0;34m(map_root, map_version)\u001b[0m\n\u001b[1;32m     40\u001b[0m \u001b[38;5;129m@lru_cache\u001b[39m(maxsize\u001b[38;5;241m=\u001b[39m\u001b[38;5;241m2\u001b[39m)\n\u001b[1;32m     41\u001b[0m \u001b[38;5;28;01mdef\u001b[39;00m \u001b[38;5;21mget_maps_db\u001b[39m(map_root: \u001b[38;5;28mstr\u001b[39m, map_version: \u001b[38;5;28mstr\u001b[39m) \u001b[38;5;241m-\u001b[39m\u001b[38;5;241m>\u001b[39m GPKGMapsDB:\n\u001b[1;32m     42\u001b[0m \u001b[38;5;250m    \u001b[39m\u001b[38;5;124;03m\"\"\"\u001b[39;00m\n\u001b[1;32m     43\u001b[0m \u001b[38;5;124;03m    Get a maps_db from disk.\u001b[39;00m\n\u001b[1;32m     44\u001b[0m \u001b[38;5;124;03m    :param map_root: The root folder for the map data.\u001b[39;00m\n\u001b[1;32m     45\u001b[0m \u001b[38;5;124;03m    :param map_version: The version of the map to load.\u001b[39;00m\n\u001b[1;32m     46\u001b[0m \u001b[38;5;124;03m    :return; The loaded MapsDB object.\u001b[39;00m\n\u001b[1;32m     47\u001b[0m \u001b[38;5;124;03m    \"\"\"\u001b[39;00m\n\u001b[0;32m---> 48\u001b[0m     \u001b[38;5;28;01mreturn\u001b[39;00m \u001b[43mGPKGMapsDB\u001b[49m\u001b[43m(\u001b[49m\u001b[43mmap_root\u001b[49m\u001b[38;5;241;43m=\u001b[39;49m\u001b[43mmap_root\u001b[49m\u001b[43m,\u001b[49m\u001b[43m \u001b[49m\u001b[43mmap_version\u001b[49m\u001b[38;5;241;43m=\u001b[39;49m\u001b[43mmap_version\u001b[49m\u001b[43m)\u001b[49m\n",
      "File \u001b[0;32m~/miniconda3/envs/navsim/lib/python3.9/site-packages/nuplan/database/maps_db/gpkg_mapsdb.py:72\u001b[0m, in \u001b[0;36mGPKGMapsDB.__init__\u001b[0;34m(self, map_version, map_root)\u001b[0m\n\u001b[1;32m     69\u001b[0m \u001b[38;5;28mself\u001b[39m\u001b[38;5;241m.\u001b[39m_map_version \u001b[38;5;241m=\u001b[39m map_version\n\u001b[1;32m     70\u001b[0m \u001b[38;5;28mself\u001b[39m\u001b[38;5;241m.\u001b[39m_map_root \u001b[38;5;241m=\u001b[39m map_root\n\u001b[0;32m---> 72\u001b[0m \u001b[38;5;28mself\u001b[39m\u001b[38;5;241m.\u001b[39m_blob_store \u001b[38;5;241m=\u001b[39m \u001b[43mBlobStoreCreator\u001b[49m\u001b[38;5;241;43m.\u001b[39;49m\u001b[43mcreate_mapsdb\u001b[49m\u001b[43m(\u001b[49m\u001b[43mmap_root\u001b[49m\u001b[38;5;241;43m=\u001b[39;49m\u001b[38;5;28;43mself\u001b[39;49m\u001b[38;5;241;43m.\u001b[39;49m\u001b[43m_map_root\u001b[49m\u001b[43m)\u001b[49m\n\u001b[1;32m     73\u001b[0m version_file \u001b[38;5;241m=\u001b[39m \u001b[38;5;28mself\u001b[39m\u001b[38;5;241m.\u001b[39m_blob_store\u001b[38;5;241m.\u001b[39mget(\u001b[38;5;124mf\u001b[39m\u001b[38;5;124m\"\u001b[39m\u001b[38;5;132;01m{\u001b[39;00m\u001b[38;5;28mself\u001b[39m\u001b[38;5;241m.\u001b[39m_map_version\u001b[38;5;132;01m}\u001b[39;00m\u001b[38;5;124m.json\u001b[39m\u001b[38;5;124m\"\u001b[39m)  \u001b[38;5;66;03m# get blob and save to disk\u001b[39;00m\n\u001b[1;32m     74\u001b[0m \u001b[38;5;28mself\u001b[39m\u001b[38;5;241m.\u001b[39m_metadata \u001b[38;5;241m=\u001b[39m json\u001b[38;5;241m.\u001b[39mload(version_file)\n",
      "File \u001b[0;32m~/miniconda3/envs/navsim/lib/python3.9/site-packages/nuplan/database/common/blob_store/creator.py:54\u001b[0m, in \u001b[0;36mBlobStoreCreator.create_mapsdb\u001b[0;34m(cls, map_root, verbose)\u001b[0m\n\u001b[1;32m     42\u001b[0m \u001b[38;5;250m\u001b[39m\u001b[38;5;124;03m\"\"\"\u001b[39;00m\n\u001b[1;32m     43\u001b[0m \u001b[38;5;124;03mCreate Maps DB blob storage.\u001b[39;00m\n\u001b[1;32m     44\u001b[0m \n\u001b[0;32m   (...)\u001b[0m\n\u001b[1;32m     47\u001b[0m \u001b[38;5;124;03m:return: Blob storage created.\u001b[39;00m\n\u001b[1;32m     48\u001b[0m \u001b[38;5;124;03m\"\"\"\u001b[39;00m\n\u001b[1;32m     49\u001b[0m conf \u001b[38;5;241m=\u001b[39m RemoteConfig(\n\u001b[1;32m     50\u001b[0m     http_root_url\u001b[38;5;241m=\u001b[39mos\u001b[38;5;241m.\u001b[39mgetenv(\u001b[38;5;124m\"\u001b[39m\u001b[38;5;124mNUPLAN_MAPS_ROOT_HTTP_URL\u001b[39m\u001b[38;5;124m\"\u001b[39m, \u001b[38;5;124m\"\u001b[39m\u001b[38;5;124m\"\u001b[39m),\n\u001b[1;32m     51\u001b[0m     s3_root_url\u001b[38;5;241m=\u001b[39mos\u001b[38;5;241m.\u001b[39mgetenv(\u001b[38;5;124m\"\u001b[39m\u001b[38;5;124mNUPLAN_MAPS_ROOT_S3_URL\u001b[39m\u001b[38;5;124m\"\u001b[39m, \u001b[38;5;124m\"\u001b[39m\u001b[38;5;124m\"\u001b[39m),\n\u001b[1;32m     52\u001b[0m )\n\u001b[0;32m---> 54\u001b[0m \u001b[38;5;28;01mreturn\u001b[39;00m \u001b[38;5;28;43mcls\u001b[39;49m\u001b[38;5;241;43m.\u001b[39;49m\u001b[43mcreate\u001b[49m\u001b[43m(\u001b[49m\u001b[43mmap_root\u001b[49m\u001b[43m,\u001b[49m\u001b[43m \u001b[49m\u001b[43mconf\u001b[49m\u001b[43m,\u001b[49m\u001b[43m \u001b[49m\u001b[43mverbose\u001b[49m\u001b[43m)\u001b[49m\n",
      "File \u001b[0;32m~/miniconda3/envs/navsim/lib/python3.9/site-packages/nuplan/database/common/blob_store/creator.py:76\u001b[0m, in \u001b[0;36mBlobStoreCreator.create\u001b[0;34m(cls, data_root, conf, verbose)\u001b[0m\n\u001b[1;32m     74\u001b[0m \u001b[38;5;28;01melif\u001b[39;00m NUPLAN_DATA_STORE \u001b[38;5;241m==\u001b[39m \u001b[38;5;124m\"\u001b[39m\u001b[38;5;124mlocal\u001b[39m\u001b[38;5;124m\"\u001b[39m:\n\u001b[1;32m     75\u001b[0m     logger\u001b[38;5;241m.\u001b[39mdebug(\u001b[38;5;124mf\u001b[39m\u001b[38;5;124m\"\u001b[39m\u001b[38;5;124mUsing local disk store at \u001b[39m\u001b[38;5;132;01m{\u001b[39;00mdata_root\u001b[38;5;132;01m}\u001b[39;00m\u001b[38;5;124m with no remote store\u001b[39m\u001b[38;5;124m\"\u001b[39m)\n\u001b[0;32m---> 76\u001b[0m     \u001b[38;5;28;01mreturn\u001b[39;00m \u001b[43mLocalStore\u001b[49m\u001b[43m(\u001b[49m\u001b[43mdata_root\u001b[49m\u001b[43m)\u001b[49m\n\u001b[1;32m     77\u001b[0m \u001b[38;5;66;03m# Default to S3 if environment variable is empty or not set.\u001b[39;00m\n\u001b[1;32m     78\u001b[0m \u001b[38;5;28;01melif\u001b[39;00m NUPLAN_DATA_STORE \u001b[38;5;241m==\u001b[39m \u001b[38;5;124m\"\u001b[39m\u001b[38;5;124ms3\u001b[39m\u001b[38;5;124m\"\u001b[39m:\n",
      "File \u001b[0;32m~/miniconda3/envs/navsim/lib/python3.9/site-packages/nuplan/database/common/blob_store/local_store.py:22\u001b[0m, in \u001b[0;36mLocalStore.__init__\u001b[0;34m(self, root_dir)\u001b[0m\n\u001b[1;32m     17\u001b[0m \u001b[38;5;250m\u001b[39m\u001b[38;5;124;03m\"\"\"\u001b[39;00m\n\u001b[1;32m     18\u001b[0m \u001b[38;5;124;03mInitialize LocalStore.\u001b[39;00m\n\u001b[1;32m     19\u001b[0m \u001b[38;5;124;03m:param root_dir: Root directory containing the data.\u001b[39;00m\n\u001b[1;32m     20\u001b[0m \u001b[38;5;124;03m\"\"\"\u001b[39;00m\n\u001b[1;32m     21\u001b[0m \u001b[38;5;28mself\u001b[39m\u001b[38;5;241m.\u001b[39m_root_dir \u001b[38;5;241m=\u001b[39m root_dir\n\u001b[0;32m---> 22\u001b[0m \u001b[38;5;28;01massert\u001b[39;00m \u001b[43mos\u001b[49m\u001b[38;5;241;43m.\u001b[39;49m\u001b[43mpath\u001b[49m\u001b[38;5;241;43m.\u001b[39;49m\u001b[43misdir\u001b[49m\u001b[43m(\u001b[49m\u001b[38;5;28;43mself\u001b[39;49m\u001b[38;5;241;43m.\u001b[39;49m\u001b[43m_root_dir\u001b[49m\u001b[43m)\u001b[49m, \u001b[38;5;124m'\u001b[39m\u001b[38;5;132;01m%s\u001b[39;00m\u001b[38;5;124m does not exist!\u001b[39m\u001b[38;5;124m'\u001b[39m \u001b[38;5;241m%\u001b[39m \u001b[38;5;28mself\u001b[39m\u001b[38;5;241m.\u001b[39m_root_dir\n\u001b[1;32m     23\u001b[0m \u001b[38;5;28;01massert\u001b[39;00m os\u001b[38;5;241m.\u001b[39maccess(\u001b[38;5;28mself\u001b[39m\u001b[38;5;241m.\u001b[39m_root_dir, os\u001b[38;5;241m.\u001b[39mR_OK \u001b[38;5;241m|\u001b[39m os\u001b[38;5;241m.\u001b[39mX_OK), \u001b[38;5;124m'\u001b[39m\u001b[38;5;124mcan not read from \u001b[39m\u001b[38;5;132;01m%s\u001b[39;00m\u001b[38;5;124m'\u001b[39m \u001b[38;5;241m%\u001b[39m \u001b[38;5;28mself\u001b[39m\u001b[38;5;241m.\u001b[39m_root_dir\n",
      "File \u001b[0;32m~/miniconda3/envs/navsim/lib/python3.9/genericpath.py:42\u001b[0m, in \u001b[0;36misdir\u001b[0;34m(s)\u001b[0m\n\u001b[1;32m     40\u001b[0m \u001b[38;5;250m\u001b[39m\u001b[38;5;124;03m\"\"\"Return true if the pathname refers to an existing directory.\"\"\"\u001b[39;00m\n\u001b[1;32m     41\u001b[0m \u001b[38;5;28;01mtry\u001b[39;00m:\n\u001b[0;32m---> 42\u001b[0m     st \u001b[38;5;241m=\u001b[39m \u001b[43mos\u001b[49m\u001b[38;5;241;43m.\u001b[39;49m\u001b[43mstat\u001b[49m\u001b[43m(\u001b[49m\u001b[43ms\u001b[49m\u001b[43m)\u001b[49m\n\u001b[1;32m     43\u001b[0m \u001b[38;5;28;01mexcept\u001b[39;00m (\u001b[38;5;167;01mOSError\u001b[39;00m, \u001b[38;5;167;01mValueError\u001b[39;00m):\n\u001b[1;32m     44\u001b[0m     \u001b[38;5;28;01mreturn\u001b[39;00m \u001b[38;5;28;01mFalse\u001b[39;00m\n",
      "\u001b[0;31mTypeError\u001b[0m: stat: path should be string, bytes, os.PathLike or integer, not NoneType"
     ]
    }
   ],
   "source": [
    "data=train_data[0]"
   ]
  },
  {
   "cell_type": "code",
   "execution_count": null,
   "metadata": {},
   "outputs": [
    {
     "name": "stdout",
     "output_type": "stream",
     "text": [
      "cache /cephfs/zhanjh/exp/training_cache\n"
     ]
    }
   ],
   "source": [
    "data1=train_data[1]"
   ]
  },
  {
   "cell_type": "code",
   "execution_count": null,
   "metadata": {},
   "outputs": [
    {
     "data": {
      "text/plain": [
       "({'camera_feature': tensor([[[0.2863, 0.2510, 0.2667,  ..., 0.2471, 0.2510, 0.2471],\n",
       "           [0.2706, 0.2588, 0.2549,  ..., 0.2471, 0.2471, 0.2471],\n",
       "           [0.2784, 0.2667, 0.2667,  ..., 0.2471, 0.2471, 0.2471],\n",
       "           ...,\n",
       "           [0.6196, 0.6118, 0.6196,  ..., 0.2549, 0.2549, 0.2510],\n",
       "           [0.6235, 0.6314, 0.6471,  ..., 0.2471, 0.2510, 0.2471],\n",
       "           [0.6196, 0.6275, 0.6314,  ..., 0.2431, 0.2431, 0.2392]],\n",
       "  \n",
       "          [[0.2863, 0.2471, 0.2588,  ..., 0.2941, 0.2980, 0.2941],\n",
       "           [0.2824, 0.2353, 0.2353,  ..., 0.2941, 0.2941, 0.2941],\n",
       "           [0.2902, 0.2471, 0.2549,  ..., 0.2941, 0.2941, 0.2941],\n",
       "           ...,\n",
       "           [0.6588, 0.6471, 0.6471,  ..., 0.2667, 0.2667, 0.2627],\n",
       "           [0.6588, 0.6588, 0.6706,  ..., 0.2588, 0.2627, 0.2588],\n",
       "           [0.6431, 0.6471, 0.6471,  ..., 0.2627, 0.2627, 0.2588]],\n",
       "  \n",
       "          [[0.2627, 0.2353, 0.2706,  ..., 0.3490, 0.3529, 0.3490],\n",
       "           [0.2706, 0.2275, 0.2431,  ..., 0.3412, 0.3412, 0.3412],\n",
       "           [0.2784, 0.2353, 0.2588,  ..., 0.3412, 0.3412, 0.3412],\n",
       "           ...,\n",
       "           [0.6627, 0.6510, 0.6392,  ..., 0.2784, 0.2784, 0.2745],\n",
       "           [0.6667, 0.6627, 0.6667,  ..., 0.2784, 0.2824, 0.2784],\n",
       "           [0.6549, 0.6510, 0.6471,  ..., 0.2863, 0.2863, 0.2824]]]),\n",
       "  'lidar_feature': tensor([[[0., 0., 0.,  ..., 0., 0., 0.],\n",
       "           [0., 0., 0.,  ..., 0., 0., 0.],\n",
       "           [0., 0., 0.,  ..., 0., 0., 0.],\n",
       "           ...,\n",
       "           [0., 0., 0.,  ..., 0., 0., 0.],\n",
       "           [0., 0., 0.,  ..., 0., 0., 0.],\n",
       "           [0., 0., 0.,  ..., 0., 0., 0.]]]),\n",
       "  'status_feature': tensor([ 0.0000,  0.0000,  1.0000,  0.0000,  3.8300,  0.1057, -0.0961, -0.6944])},\n",
       " {'trajectory': tensor([[ 1.8449, -0.0883, -0.1092],\n",
       "          [ 3.6463, -0.4023, -0.2398],\n",
       "          [ 5.3686, -0.9523, -0.3889],\n",
       "          [ 7.0978, -1.7980, -0.5564],\n",
       "          [ 8.7931, -3.0453, -0.7379],\n",
       "          [10.3725, -4.7149, -0.9012],\n",
       "          [11.8347, -6.7531, -0.9963],\n",
       "          [13.2534, -9.0238, -1.0544]], dtype=torch.float64),\n",
       "  'agent_states': tensor([[ -5.3988,  -4.0061,   0.2404,   4.6636,   1.9678],\n",
       "          [-10.9426,  -5.2023,   0.2298,   4.5296,   1.9831],\n",
       "          [ 10.6503, -11.2428,  -1.1187,   4.4456,   1.8974],\n",
       "          [-16.0913,  -6.2805,   0.2255,   4.5302,   1.8896],\n",
       "          [  0.9179,  18.0352,  -1.1452,   4.7756,   1.9590],\n",
       "          [-19.1302,   3.3367,   3.3589,   4.9595,   1.9845],\n",
       "          [ 13.4244, -16.2851,  -1.1312,   5.6670,   2.1008],\n",
       "          [-20.9861,  -7.3048,   0.2118,   4.3951,   1.8435],\n",
       "          [ 23.7659,  -2.5863,   0.2630,   4.3654,   1.9251],\n",
       "          [ 19.9960, -13.7404,   2.0203,   4.6691,   1.8668],\n",
       "          [ -2.1762,  24.5542,  -1.1468,   4.6618,   1.9837],\n",
       "          [-24.8577,   2.2001,   3.3629,   4.2649,   1.9834],\n",
       "          [-26.3724,  -8.3697,   0.2016,   4.5920,   1.8719],\n",
       "          [ 21.9885, -19.6084,   2.0161,   4.9229,   2.0497],\n",
       "          [-31.1572,   0.6674,   3.3986,   4.5383,   1.9450],\n",
       "          [ -5.1263,  31.2178,  -1.1396,   4.6045,   1.9948],\n",
       "          [ -8.9922,  31.2219,  -1.1064,   4.5750,   1.9372],\n",
       "          [-31.4626,  -9.5896,   0.2406,   4.4041,   1.7585],\n",
       "          [ 25.0772, -25.5547,   2.0335,   4.4038,   1.9064],\n",
       "          [  0.0000,   0.0000,   0.0000,   0.0000,   0.0000],\n",
       "          [  0.0000,   0.0000,   0.0000,   0.0000,   0.0000],\n",
       "          [  0.0000,   0.0000,   0.0000,   0.0000,   0.0000],\n",
       "          [  0.0000,   0.0000,   0.0000,   0.0000,   0.0000],\n",
       "          [  0.0000,   0.0000,   0.0000,   0.0000,   0.0000],\n",
       "          [  0.0000,   0.0000,   0.0000,   0.0000,   0.0000],\n",
       "          [  0.0000,   0.0000,   0.0000,   0.0000,   0.0000],\n",
       "          [  0.0000,   0.0000,   0.0000,   0.0000,   0.0000],\n",
       "          [  0.0000,   0.0000,   0.0000,   0.0000,   0.0000],\n",
       "          [  0.0000,   0.0000,   0.0000,   0.0000,   0.0000],\n",
       "          [  0.0000,   0.0000,   0.0000,   0.0000,   0.0000]]),\n",
       "  'agent_labels': tensor([ True,  True,  True,  True,  True,  True,  True,  True,  True,  True,\n",
       "           True,  True,  True,  True,  True,  True,  True,  True,  True, False,\n",
       "          False, False, False, False, False, False, False, False, False, False]),\n",
       "  'bev_semantic_map': tensor([[0., 0., 0.,  ..., 0., 0., 0.],\n",
       "          [0., 0., 0.,  ..., 0., 0., 0.],\n",
       "          [0., 0., 0.,  ..., 0., 0., 0.],\n",
       "          ...,\n",
       "          [0., 2., 2.,  ..., 0., 0., 0.],\n",
       "          [2., 2., 2.,  ..., 0., 0., 0.],\n",
       "          [2., 2., 2.,  ..., 0., 0., 0.]])})"
      ]
     },
     "execution_count": 12,
     "metadata": {},
     "output_type": "execute_result"
    }
   ],
   "source": [
    "data"
   ]
  },
  {
   "cell_type": "code",
   "execution_count": null,
   "metadata": {},
   "outputs": [
    {
     "data": {
      "text/plain": [
       "tensor([[ 3.6928e+00,  1.3640e-02, -1.6618e-03],\n",
       "        [ 7.4971e+00,  2.2371e-02, -2.2717e-03],\n",
       "        [ 1.1372e+01, -9.8581e-03, -2.1750e-03],\n",
       "        [ 1.5332e+01, -3.3419e-02, -2.8064e-03],\n",
       "        [ 1.9347e+01, -5.1332e-02, -2.8773e-03],\n",
       "        [ 2.3422e+01, -6.1071e-02, -2.7041e-03],\n",
       "        [ 2.7508e+01, -8.1003e-02, -2.8067e-03],\n",
       "        [ 3.1510e+01, -9.8640e-02, -2.1192e-03]], dtype=torch.float64)"
      ]
     },
     "execution_count": 13,
     "metadata": {},
     "output_type": "execute_result"
    }
   ],
   "source": [
    "data1[1][\"trajectory\"]"
   ]
  },
  {
   "cell_type": "code",
   "execution_count": null,
   "metadata": {},
   "outputs": [
    {
     "data": {
      "text/plain": [
       "tensor([[ 1.8449, -0.0883, -0.1092],\n",
       "        [ 3.6463, -0.4023, -0.2398],\n",
       "        [ 5.3686, -0.9523, -0.3889],\n",
       "        [ 7.0978, -1.7980, -0.5564],\n",
       "        [ 8.7931, -3.0453, -0.7379],\n",
       "        [10.3725, -4.7149, -0.9012],\n",
       "        [11.8347, -6.7531, -0.9963],\n",
       "        [13.2534, -9.0238, -1.0544]], dtype=torch.float64)"
      ]
     },
     "execution_count": 14,
     "metadata": {},
     "output_type": "execute_result"
    }
   ],
   "source": [
    "data[1][\"trajectory\"]"
   ]
  },
  {
   "cell_type": "code",
   "execution_count": null,
   "metadata": {},
   "outputs": [
    {
     "data": {
      "text/plain": [
       "torch.Size([3, 256, 1024])"
      ]
     },
     "execution_count": 15,
     "metadata": {},
     "output_type": "execute_result"
    }
   ],
   "source": [
    "data[0][\"camera_feature\"].shape"
   ]
  },
  {
   "cell_type": "code",
   "execution_count": null,
   "metadata": {},
   "outputs": [
    {
     "data": {
      "text/plain": [
       "torch.Size([1, 256, 256])"
      ]
     },
     "execution_count": 16,
     "metadata": {},
     "output_type": "execute_result"
    }
   ],
   "source": [
    "data[0][\"lidar_feature\"].shape"
   ]
  },
  {
   "cell_type": "code",
   "execution_count": null,
   "metadata": {},
   "outputs": [
    {
     "data": {
      "text/plain": [
       "torch.Size([8])"
      ]
     },
     "execution_count": 17,
     "metadata": {},
     "output_type": "execute_result"
    }
   ],
   "source": [
    "data[0][\"status_feature\"].shape"
   ]
  },
  {
   "cell_type": "code",
   "execution_count": null,
   "metadata": {},
   "outputs": [
    {
     "data": {
      "text/plain": [
       "torch.Size([30, 5])"
      ]
     },
     "execution_count": 18,
     "metadata": {},
     "output_type": "execute_result"
    }
   ],
   "source": [
    "data[1][\"agent_states\"].shape"
   ]
  },
  {
   "cell_type": "code",
   "execution_count": null,
   "metadata": {},
   "outputs": [],
   "source": [
    "\n",
    "train_dataloader = DataLoader(train_data, **cfg.dataloader.params, shuffle=True)\n",
    "\n",
    "val_dataloader = DataLoader(val_data, **cfg.dataloader.params, shuffle=False)\n",
    "\n"
   ]
  }
 ],
 "metadata": {
  "kernelspec": {
   "display_name": "navsim",
   "language": "python",
   "name": "python3"
  },
  "language_info": {
   "codemirror_mode": {
    "name": "ipython",
    "version": 3
   },
   "file_extension": ".py",
   "mimetype": "text/x-python",
   "name": "python",
   "nbconvert_exporter": "python",
   "pygments_lexer": "ipython3",
   "version": "3.9.19"
  }
 },
 "nbformat": 4,
 "nbformat_minor": 2
}
