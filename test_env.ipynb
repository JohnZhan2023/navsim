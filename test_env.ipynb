{
 "cells": [
  {
   "cell_type": "code",
   "execution_count": 19,
   "metadata": {},
   "outputs": [],
   "source": [
    "from typing import Tuple\n",
    "import hydra\n",
    "from hydra.utils import instantiate\n",
    "import logging\n",
    "from omegaconf import DictConfig\n",
    "from pathlib import Path\n",
    "import pytorch_lightning as pl\n",
    "from torch.utils.data import DataLoader\n",
    "\n",
    "from navsim.planning.training.dataset import CacheOnlyDataset, Dataset\n",
    "from navsim.planning.training.agent_lightning_module import AgentLightningModule\n",
    "from navsim.common.dataloader import SceneLoader\n",
    "from navsim.common.dataclasses import SceneFilter\n",
    "from navsim.agents.abstract_agent import AbstractAgent"
   ]
  },
  {
   "cell_type": "code",
   "execution_count": 20,
   "metadata": {},
   "outputs": [],
   "source": [
    "\n",
    "def build_datasets(cfg: DictConfig, agent: AbstractAgent) -> Tuple[Dataset, Dataset]:\n",
    "    train_scene_filter: SceneFilter = instantiate(cfg.scene_filter)\n",
    "    if train_scene_filter.log_names is not None:\n",
    "        train_scene_filter.log_names = [l for l in train_scene_filter.log_names if l in cfg.train_logs]\n",
    "    else:\n",
    "        train_scene_filter.log_names = cfg.train_logs\n",
    "\n",
    "    val_scene_filter: SceneFilter = instantiate(cfg.scene_filter)\n",
    "    if val_scene_filter.log_names is not None:\n",
    "        val_scene_filter.log_names = [l for l in val_scene_filter.log_names if l in cfg.val_logs]\n",
    "    else:\n",
    "        val_scene_filter.log_names = cfg.val_logs\n",
    "\n",
    "    data_path = Path(cfg.navsim_log_path)\n",
    "    sensor_blobs_path = Path(cfg.sensor_blobs_path)\n",
    "\n",
    "    train_scene_loader = SceneLoader(\n",
    "        sensor_blobs_path=sensor_blobs_path,\n",
    "        data_path=data_path,\n",
    "        scene_filter=train_scene_filter,\n",
    "        sensor_config=agent.get_sensor_config(),\n",
    "    )\n",
    "\n",
    "    val_scene_loader = SceneLoader(\n",
    "        sensor_blobs_path=sensor_blobs_path,\n",
    "        data_path=data_path,\n",
    "        scene_filter=val_scene_filter,\n",
    "        sensor_config=agent.get_sensor_config(),\n",
    "    )\n",
    "\n",
    "    train_data = Dataset(\n",
    "        scene_loader=train_scene_loader,\n",
    "        feature_builders=agent.get_feature_builders(),\n",
    "        target_builders=agent.get_target_builders(),\n",
    "        cache_path=cfg.cache_path,\n",
    "        force_cache_computation=cfg.force_cache_computation,\n",
    "    )\n",
    "\n",
    "    val_data = Dataset(\n",
    "        scene_loader=val_scene_loader,\n",
    "        feature_builders=agent.get_feature_builders(),\n",
    "        target_builders=agent.get_target_builders(),\n",
    "        cache_path=cfg.cache_path,\n",
    "        force_cache_computation=cfg.force_cache_computation,\n",
    "    )\n",
    "\n",
    "    return train_data, val_data"
   ]
  },
  {
   "cell_type": "code",
   "execution_count": 21,
   "metadata": {},
   "outputs": [],
   "source": [
    "from omegaconf import OmegaConf\n",
    "cfg = OmegaConf.load(\"/root/navsim/cfg.yaml\")"
   ]
  },
  {
   "cell_type": "code",
   "execution_count": 22,
   "metadata": {},
   "outputs": [
    {
     "name": "stderr",
     "output_type": "stream",
     "text": [
      "Seed set to 0\n"
     ]
    },
    {
     "data": {
      "text/plain": [
       "0"
      ]
     },
     "execution_count": 22,
     "metadata": {},
     "output_type": "execute_result"
    }
   ],
   "source": [
    "pl.seed_everything(0, workers=True)"
   ]
  },
  {
   "cell_type": "code",
   "execution_count": 23,
   "metadata": {},
   "outputs": [],
   "source": [
    "agent: AbstractAgent = instantiate(cfg.agent)"
   ]
  },
  {
   "cell_type": "code",
   "execution_count": 24,
   "metadata": {},
   "outputs": [],
   "source": [
    "lightning_module = AgentLightningModule(\n",
    "        agent=agent,\n",
    "    )"
   ]
  },
  {
   "cell_type": "code",
   "execution_count": 25,
   "metadata": {},
   "outputs": [
    {
     "ename": "KeyboardInterrupt",
     "evalue": "",
     "output_type": "error",
     "traceback": [
      "\u001b[0;31m---------------------------------------------------------------------------\u001b[0m",
      "\u001b[0;31mKeyboardInterrupt\u001b[0m                         Traceback (most recent call last)",
      "Cell \u001b[0;32mIn[25], line 1\u001b[0m\n\u001b[0;32m----> 1\u001b[0m train_data, val_data \u001b[38;5;241m=\u001b[39m \u001b[43mbuild_datasets\u001b[49m\u001b[43m(\u001b[49m\u001b[43mcfg\u001b[49m\u001b[43m,\u001b[49m\u001b[43m \u001b[49m\u001b[43magent\u001b[49m\u001b[43m)\u001b[49m\n",
      "Cell \u001b[0;32mIn[20], line 17\u001b[0m, in \u001b[0;36mbuild_datasets\u001b[0;34m(cfg, agent)\u001b[0m\n\u001b[1;32m     14\u001b[0m data_path \u001b[38;5;241m=\u001b[39m Path(cfg\u001b[38;5;241m.\u001b[39mnavsim_log_path)\n\u001b[1;32m     15\u001b[0m sensor_blobs_path \u001b[38;5;241m=\u001b[39m Path(cfg\u001b[38;5;241m.\u001b[39msensor_blobs_path)\n\u001b[0;32m---> 17\u001b[0m train_scene_loader \u001b[38;5;241m=\u001b[39m \u001b[43mSceneLoader\u001b[49m\u001b[43m(\u001b[49m\n\u001b[1;32m     18\u001b[0m \u001b[43m    \u001b[49m\u001b[43msensor_blobs_path\u001b[49m\u001b[38;5;241;43m=\u001b[39;49m\u001b[43msensor_blobs_path\u001b[49m\u001b[43m,\u001b[49m\n\u001b[1;32m     19\u001b[0m \u001b[43m    \u001b[49m\u001b[43mdata_path\u001b[49m\u001b[38;5;241;43m=\u001b[39;49m\u001b[43mdata_path\u001b[49m\u001b[43m,\u001b[49m\n\u001b[1;32m     20\u001b[0m \u001b[43m    \u001b[49m\u001b[43mscene_filter\u001b[49m\u001b[38;5;241;43m=\u001b[39;49m\u001b[43mtrain_scene_filter\u001b[49m\u001b[43m,\u001b[49m\n\u001b[1;32m     21\u001b[0m \u001b[43m    \u001b[49m\u001b[43msensor_config\u001b[49m\u001b[38;5;241;43m=\u001b[39;49m\u001b[43magent\u001b[49m\u001b[38;5;241;43m.\u001b[39;49m\u001b[43mget_sensor_config\u001b[49m\u001b[43m(\u001b[49m\u001b[43m)\u001b[49m\u001b[43m,\u001b[49m\n\u001b[1;32m     22\u001b[0m \u001b[43m\u001b[49m\u001b[43m)\u001b[49m\n\u001b[1;32m     24\u001b[0m val_scene_loader \u001b[38;5;241m=\u001b[39m SceneLoader(\n\u001b[1;32m     25\u001b[0m     sensor_blobs_path\u001b[38;5;241m=\u001b[39msensor_blobs_path,\n\u001b[1;32m     26\u001b[0m     data_path\u001b[38;5;241m=\u001b[39mdata_path,\n\u001b[1;32m     27\u001b[0m     scene_filter\u001b[38;5;241m=\u001b[39mval_scene_filter,\n\u001b[1;32m     28\u001b[0m     sensor_config\u001b[38;5;241m=\u001b[39magent\u001b[38;5;241m.\u001b[39mget_sensor_config(),\n\u001b[1;32m     29\u001b[0m )\n\u001b[1;32m     31\u001b[0m train_data \u001b[38;5;241m=\u001b[39m Dataset(\n\u001b[1;32m     32\u001b[0m     scene_loader\u001b[38;5;241m=\u001b[39mtrain_scene_loader,\n\u001b[1;32m     33\u001b[0m     feature_builders\u001b[38;5;241m=\u001b[39magent\u001b[38;5;241m.\u001b[39mget_feature_builders(),\n\u001b[0;32m   (...)\u001b[0m\n\u001b[1;32m     36\u001b[0m     force_cache_computation\u001b[38;5;241m=\u001b[39mcfg\u001b[38;5;241m.\u001b[39mforce_cache_computation,\n\u001b[1;32m     37\u001b[0m )\n",
      "File \u001b[0;32m~/navsim/navsim/common/dataloader.py:83\u001b[0m, in \u001b[0;36mSceneLoader.__init__\u001b[0;34m(self, data_path, sensor_blobs_path, scene_filter, sensor_config)\u001b[0m\n\u001b[1;32m     75\u001b[0m \u001b[38;5;28;01mdef\u001b[39;00m \u001b[38;5;21m__init__\u001b[39m(\n\u001b[1;32m     76\u001b[0m     \u001b[38;5;28mself\u001b[39m,\n\u001b[1;32m     77\u001b[0m     data_path: Path,\n\u001b[0;32m   (...)\u001b[0m\n\u001b[1;32m     80\u001b[0m     sensor_config: SensorConfig \u001b[38;5;241m=\u001b[39m SensorConfig\u001b[38;5;241m.\u001b[39mbuild_no_sensors(),\n\u001b[1;32m     81\u001b[0m ):\n\u001b[0;32m---> 83\u001b[0m     \u001b[38;5;28mself\u001b[39m\u001b[38;5;241m.\u001b[39mscene_frames_dicts \u001b[38;5;241m=\u001b[39m \u001b[43mfilter_scenes\u001b[49m\u001b[43m(\u001b[49m\u001b[43mdata_path\u001b[49m\u001b[43m,\u001b[49m\u001b[43m \u001b[49m\u001b[43mscene_filter\u001b[49m\u001b[43m)\u001b[49m\n\u001b[1;32m     84\u001b[0m     \u001b[38;5;28mself\u001b[39m\u001b[38;5;241m.\u001b[39m_sensor_blobs_path \u001b[38;5;241m=\u001b[39m sensor_blobs_path\n\u001b[1;32m     85\u001b[0m     \u001b[38;5;28mself\u001b[39m\u001b[38;5;241m.\u001b[39m_scene_filter \u001b[38;5;241m=\u001b[39m scene_filter\n",
      "File \u001b[0;32m~/navsim/navsim/common/dataloader.py:25\u001b[0m, in \u001b[0;36mfilter_scenes\u001b[0;34m(data_path, scene_filter)\u001b[0m\n\u001b[1;32m     23\u001b[0m log_files \u001b[38;5;241m=\u001b[39m \u001b[38;5;28mlist\u001b[39m(data_path\u001b[38;5;241m.\u001b[39miterdir())\n\u001b[1;32m     24\u001b[0m \u001b[38;5;28;01mif\u001b[39;00m scene_filter\u001b[38;5;241m.\u001b[39mlog_names \u001b[38;5;129;01mis\u001b[39;00m \u001b[38;5;129;01mnot\u001b[39;00m \u001b[38;5;28;01mNone\u001b[39;00m:\n\u001b[0;32m---> 25\u001b[0m     log_files \u001b[38;5;241m=\u001b[39m [\n\u001b[1;32m     26\u001b[0m         log_file\n\u001b[1;32m     27\u001b[0m         \u001b[38;5;28;01mfor\u001b[39;00m log_file \u001b[38;5;129;01min\u001b[39;00m log_files\n\u001b[1;32m     28\u001b[0m         \u001b[38;5;28;01mif\u001b[39;00m log_file\u001b[38;5;241m.\u001b[39mname\u001b[38;5;241m.\u001b[39mreplace(\u001b[38;5;124m\"\u001b[39m\u001b[38;5;124m.pkl\u001b[39m\u001b[38;5;124m\"\u001b[39m, \u001b[38;5;124m\"\u001b[39m\u001b[38;5;124m\"\u001b[39m) \u001b[38;5;129;01min\u001b[39;00m scene_filter\u001b[38;5;241m.\u001b[39mlog_names\n\u001b[1;32m     29\u001b[0m     ]\n\u001b[1;32m     31\u001b[0m \u001b[38;5;28;01mif\u001b[39;00m scene_filter\u001b[38;5;241m.\u001b[39mtokens \u001b[38;5;129;01mis\u001b[39;00m \u001b[38;5;129;01mnot\u001b[39;00m \u001b[38;5;28;01mNone\u001b[39;00m:\n\u001b[1;32m     32\u001b[0m     filter_tokens \u001b[38;5;241m=\u001b[39m \u001b[38;5;28;01mTrue\u001b[39;00m\n",
      "File \u001b[0;32m~/navsim/navsim/common/dataloader.py:28\u001b[0m, in \u001b[0;36m<listcomp>\u001b[0;34m(.0)\u001b[0m\n\u001b[1;32m     23\u001b[0m log_files \u001b[38;5;241m=\u001b[39m \u001b[38;5;28mlist\u001b[39m(data_path\u001b[38;5;241m.\u001b[39miterdir())\n\u001b[1;32m     24\u001b[0m \u001b[38;5;28;01mif\u001b[39;00m scene_filter\u001b[38;5;241m.\u001b[39mlog_names \u001b[38;5;129;01mis\u001b[39;00m \u001b[38;5;129;01mnot\u001b[39;00m \u001b[38;5;28;01mNone\u001b[39;00m:\n\u001b[1;32m     25\u001b[0m     log_files \u001b[38;5;241m=\u001b[39m [\n\u001b[1;32m     26\u001b[0m         log_file\n\u001b[1;32m     27\u001b[0m         \u001b[38;5;28;01mfor\u001b[39;00m log_file \u001b[38;5;129;01min\u001b[39;00m log_files\n\u001b[0;32m---> 28\u001b[0m         \u001b[38;5;28;01mif\u001b[39;00m \u001b[43mlog_file\u001b[49m\u001b[38;5;241;43m.\u001b[39;49m\u001b[43mname\u001b[49m\u001b[38;5;241;43m.\u001b[39;49m\u001b[43mreplace\u001b[49m\u001b[43m(\u001b[49m\u001b[38;5;124;43m\"\u001b[39;49m\u001b[38;5;124;43m.pkl\u001b[39;49m\u001b[38;5;124;43m\"\u001b[39;49m\u001b[43m,\u001b[49m\u001b[43m \u001b[49m\u001b[38;5;124;43m\"\u001b[39;49m\u001b[38;5;124;43m\"\u001b[39;49m\u001b[43m)\u001b[49m\u001b[43m \u001b[49m\u001b[38;5;129;43;01min\u001b[39;49;00m\u001b[43m \u001b[49m\u001b[43mscene_filter\u001b[49m\u001b[38;5;241;43m.\u001b[39;49m\u001b[43mlog_names\u001b[49m\n\u001b[1;32m     29\u001b[0m     ]\n\u001b[1;32m     31\u001b[0m \u001b[38;5;28;01mif\u001b[39;00m scene_filter\u001b[38;5;241m.\u001b[39mtokens \u001b[38;5;129;01mis\u001b[39;00m \u001b[38;5;129;01mnot\u001b[39;00m \u001b[38;5;28;01mNone\u001b[39;00m:\n\u001b[1;32m     32\u001b[0m     filter_tokens \u001b[38;5;241m=\u001b[39m \u001b[38;5;28;01mTrue\u001b[39;00m\n",
      "File \u001b[0;32m~/miniconda3/envs/navsim/lib/python3.9/site-packages/omegaconf/listconfig.py:557\u001b[0m, in \u001b[0;36mListConfig.__contains__\u001b[0;34m(self, item)\u001b[0m\n\u001b[1;32m    555\u001b[0m lst \u001b[38;5;241m=\u001b[39m \u001b[38;5;28mself\u001b[39m\u001b[38;5;241m.\u001b[39m\u001b[38;5;18m__dict__\u001b[39m[\u001b[38;5;124m\"\u001b[39m\u001b[38;5;124m_content\u001b[39m\u001b[38;5;124m\"\u001b[39m]\n\u001b[1;32m    556\u001b[0m \u001b[38;5;28;01mfor\u001b[39;00m x \u001b[38;5;129;01min\u001b[39;00m lst:\n\u001b[0;32m--> 557\u001b[0m     x \u001b[38;5;241m=\u001b[39m \u001b[43mx\u001b[49m\u001b[38;5;241;43m.\u001b[39;49m\u001b[43m_dereference_node\u001b[49m\u001b[43m(\u001b[49m\u001b[43m)\u001b[49m\n\u001b[1;32m    558\u001b[0m     \u001b[38;5;28;01mif\u001b[39;00m x \u001b[38;5;241m==\u001b[39m item:\n\u001b[1;32m    559\u001b[0m         \u001b[38;5;28;01mreturn\u001b[39;00m \u001b[38;5;28;01mTrue\u001b[39;00m\n",
      "File \u001b[0;32m~/miniconda3/envs/navsim/lib/python3.9/site-packages/omegaconf/base.py:205\u001b[0m, in \u001b[0;36mNode._dereference_node\u001b[0;34m(self)\u001b[0m\n\u001b[1;32m    204\u001b[0m \u001b[38;5;28;01mdef\u001b[39;00m \u001b[38;5;21m_dereference_node\u001b[39m(\u001b[38;5;28mself\u001b[39m) \u001b[38;5;241m-\u001b[39m\u001b[38;5;241m>\u001b[39m \u001b[38;5;124m\"\u001b[39m\u001b[38;5;124mNode\u001b[39m\u001b[38;5;124m\"\u001b[39m:\n\u001b[0;32m--> 205\u001b[0m     node \u001b[38;5;241m=\u001b[39m \u001b[38;5;28;43mself\u001b[39;49m\u001b[38;5;241;43m.\u001b[39;49m\u001b[43m_dereference_node_impl\u001b[49m\u001b[43m(\u001b[49m\u001b[43mthrow_on_resolution_failure\u001b[49m\u001b[38;5;241;43m=\u001b[39;49m\u001b[38;5;28;43;01mTrue\u001b[39;49;00m\u001b[43m)\u001b[49m\n\u001b[1;32m    206\u001b[0m     \u001b[38;5;28;01massert\u001b[39;00m node \u001b[38;5;129;01mis\u001b[39;00m \u001b[38;5;129;01mnot\u001b[39;00m \u001b[38;5;28;01mNone\u001b[39;00m\n\u001b[1;32m    207\u001b[0m     \u001b[38;5;28;01mreturn\u001b[39;00m node\n",
      "File \u001b[0;32m~/miniconda3/envs/navsim/lib/python3.9/site-packages/omegaconf/base.py:224\u001b[0m, in \u001b[0;36mNode._dereference_node_impl\u001b[0;34m(self, throw_on_resolution_failure, memo)\u001b[0m\n\u001b[1;32m    219\u001b[0m \u001b[38;5;28;01mdef\u001b[39;00m \u001b[38;5;21m_dereference_node_impl\u001b[39m(\n\u001b[1;32m    220\u001b[0m     \u001b[38;5;28mself\u001b[39m,\n\u001b[1;32m    221\u001b[0m     throw_on_resolution_failure: \u001b[38;5;28mbool\u001b[39m,\n\u001b[1;32m    222\u001b[0m     memo: Optional[Set[\u001b[38;5;28mint\u001b[39m]] \u001b[38;5;241m=\u001b[39m \u001b[38;5;28;01mNone\u001b[39;00m,\n\u001b[1;32m    223\u001b[0m ) \u001b[38;5;241m-\u001b[39m\u001b[38;5;241m>\u001b[39m Optional[\u001b[38;5;124m\"\u001b[39m\u001b[38;5;124mNode\u001b[39m\u001b[38;5;124m\"\u001b[39m]:\n\u001b[0;32m--> 224\u001b[0m     \u001b[38;5;28;01mif\u001b[39;00m \u001b[38;5;129;01mnot\u001b[39;00m \u001b[38;5;28;43mself\u001b[39;49m\u001b[38;5;241;43m.\u001b[39;49m\u001b[43m_is_interpolation\u001b[49m\u001b[43m(\u001b[49m\u001b[43m)\u001b[49m:\n\u001b[1;32m    225\u001b[0m         \u001b[38;5;28;01mreturn\u001b[39;00m \u001b[38;5;28mself\u001b[39m\n\u001b[1;32m    227\u001b[0m     parent \u001b[38;5;241m=\u001b[39m \u001b[38;5;28mself\u001b[39m\u001b[38;5;241m.\u001b[39m_get_parent()\n",
      "File \u001b[0;32m~/miniconda3/envs/navsim/lib/python3.9/site-packages/omegaconf/nodes.py:95\u001b[0m, in \u001b[0;36mValueNode._is_interpolation\u001b[0;34m(self)\u001b[0m\n\u001b[1;32m     94\u001b[0m \u001b[38;5;28;01mdef\u001b[39;00m \u001b[38;5;21m_is_interpolation\u001b[39m(\u001b[38;5;28mself\u001b[39m) \u001b[38;5;241m-\u001b[39m\u001b[38;5;241m>\u001b[39m \u001b[38;5;28mbool\u001b[39m:\n\u001b[0;32m---> 95\u001b[0m     \u001b[38;5;28;01mreturn\u001b[39;00m \u001b[43m_is_interpolation\u001b[49m\u001b[43m(\u001b[49m\u001b[38;5;28;43mself\u001b[39;49m\u001b[38;5;241;43m.\u001b[39;49m\u001b[43m_value\u001b[49m\u001b[43m(\u001b[49m\u001b[43m)\u001b[49m\u001b[43m)\u001b[49m\n",
      "File \u001b[0;32m~/miniconda3/envs/navsim/lib/python3.9/site-packages/omegaconf/_utils.py:666\u001b[0m, in \u001b[0;36m_is_interpolation\u001b[0;34m(v, strict_interpolation_validation)\u001b[0m\n\u001b[1;32m    663\u001b[0m \u001b[38;5;28;01mdef\u001b[39;00m \u001b[38;5;21m_is_interpolation\u001b[39m(v: Any, strict_interpolation_validation: \u001b[38;5;28mbool\u001b[39m \u001b[38;5;241m=\u001b[39m \u001b[38;5;28;01mFalse\u001b[39;00m) \u001b[38;5;241m-\u001b[39m\u001b[38;5;241m>\u001b[39m \u001b[38;5;28mbool\u001b[39m:\n\u001b[1;32m    664\u001b[0m     \u001b[38;5;28;01mif\u001b[39;00m \u001b[38;5;28misinstance\u001b[39m(v, \u001b[38;5;28mstr\u001b[39m):\n\u001b[1;32m    665\u001b[0m         ret \u001b[38;5;241m=\u001b[39m (\n\u001b[0;32m--> 666\u001b[0m             \u001b[43mget_value_kind\u001b[49m\u001b[43m(\u001b[49m\u001b[43mv\u001b[49m\u001b[43m,\u001b[49m\u001b[43m \u001b[49m\u001b[43mstrict_interpolation_validation\u001b[49m\u001b[43m)\u001b[49m\n\u001b[1;32m    667\u001b[0m             \u001b[38;5;241m==\u001b[39m ValueKind\u001b[38;5;241m.\u001b[39mINTERPOLATION\n\u001b[1;32m    668\u001b[0m         )\n\u001b[1;32m    669\u001b[0m         \u001b[38;5;28;01massert\u001b[39;00m \u001b[38;5;28misinstance\u001b[39m(ret, \u001b[38;5;28mbool\u001b[39m)\n\u001b[1;32m    670\u001b[0m         \u001b[38;5;28;01mreturn\u001b[39;00m ret\n",
      "File \u001b[0;32m~/miniconda3/envs/navsim/lib/python3.9/site-packages/omegaconf/_utils.py:511\u001b[0m, in \u001b[0;36mget_value_kind\u001b[0;34m(value, strict_interpolation_validation)\u001b[0m\n\u001b[1;32m    508\u001b[0m \u001b[38;5;28;01mif\u001b[39;00m _is_missing_value(value):\n\u001b[1;32m    509\u001b[0m     \u001b[38;5;28;01mreturn\u001b[39;00m ValueKind\u001b[38;5;241m.\u001b[39mMANDATORY_MISSING\n\u001b[0;32m--> 511\u001b[0m value \u001b[38;5;241m=\u001b[39m \u001b[43m_get_value\u001b[49m\u001b[43m(\u001b[49m\u001b[43mvalue\u001b[49m\u001b[43m)\u001b[49m\n\u001b[1;32m    513\u001b[0m \u001b[38;5;66;03m# We identify potential interpolations by the presence of \"${\" in the string.\u001b[39;00m\n\u001b[1;32m    514\u001b[0m \u001b[38;5;66;03m# Note that escaped interpolations (ex: \"esc: \\${bar}\") are identified as\u001b[39;00m\n\u001b[1;32m    515\u001b[0m \u001b[38;5;66;03m# interpolations: this is intended, since they must be processed as interpolations\u001b[39;00m\n\u001b[1;32m    516\u001b[0m \u001b[38;5;66;03m# for the string to be properly un-escaped.\u001b[39;00m\n\u001b[1;32m    517\u001b[0m \u001b[38;5;66;03m# Keep in mind that invalid interpolations will only be detected when\u001b[39;00m\n\u001b[1;32m    518\u001b[0m \u001b[38;5;66;03m# `strict_interpolation_validation` is True.\u001b[39;00m\n\u001b[1;32m    519\u001b[0m \u001b[38;5;28;01mif\u001b[39;00m \u001b[38;5;28misinstance\u001b[39m(value, \u001b[38;5;28mstr\u001b[39m) \u001b[38;5;129;01mand\u001b[39;00m \u001b[38;5;124m\"\u001b[39m\u001b[38;5;124m$\u001b[39m\u001b[38;5;124m{\u001b[39m\u001b[38;5;124m\"\u001b[39m \u001b[38;5;129;01min\u001b[39;00m value:\n",
      "File \u001b[0;32m~/miniconda3/envs/navsim/lib/python3.9/site-packages/omegaconf/_utils.py:676\u001b[0m, in \u001b[0;36m_get_value\u001b[0;34m(value)\u001b[0m\n\u001b[1;32m    674\u001b[0m \u001b[38;5;28;01mdef\u001b[39;00m \u001b[38;5;21m_get_value\u001b[39m(value: Any) \u001b[38;5;241m-\u001b[39m\u001b[38;5;241m>\u001b[39m Any:\n\u001b[1;32m    675\u001b[0m     \u001b[38;5;28;01mfrom\u001b[39;00m \u001b[38;5;21;01m.\u001b[39;00m\u001b[38;5;21;01mbase\u001b[39;00m \u001b[38;5;28;01mimport\u001b[39;00m Container\n\u001b[0;32m--> 676\u001b[0m     \u001b[38;5;28;01mfrom\u001b[39;00m \u001b[38;5;21;01m.\u001b[39;00m\u001b[38;5;21;01mnodes\u001b[39;00m \u001b[38;5;28;01mimport\u001b[39;00m ValueNode\n\u001b[1;32m    678\u001b[0m     \u001b[38;5;28;01mif\u001b[39;00m \u001b[38;5;28misinstance\u001b[39m(value, ValueNode):\n\u001b[1;32m    679\u001b[0m         \u001b[38;5;28;01mreturn\u001b[39;00m value\u001b[38;5;241m.\u001b[39m_value()\n",
      "\u001b[0;31mKeyboardInterrupt\u001b[0m: "
     ]
    }
   ],
   "source": [
    "train_data, val_data = build_datasets(cfg, agent)"
   ]
  },
  {
   "cell_type": "code",
   "execution_count": null,
   "metadata": {},
   "outputs": [],
   "source": []
  },
  {
   "cell_type": "code",
   "execution_count": null,
   "metadata": {},
   "outputs": [],
   "source": [
    "train_dataloader = DataLoader(train_data, **cfg.dataloader.params, shuffle=True)"
   ]
  },
  {
   "cell_type": "code",
   "execution_count": null,
   "metadata": {},
   "outputs": [],
   "source": [
    "val_dataloader = DataLoader(val_data, **cfg.dataloader.params, shuffle=False)"
   ]
  },
  {
   "cell_type": "code",
   "execution_count": null,
   "metadata": {},
   "outputs": [],
   "source": [
    "data=train_data[0]"
   ]
  },
  {
   "cell_type": "code",
   "execution_count": null,
   "metadata": {},
   "outputs": [],
   "source": [
    "data1=train_data[1]"
   ]
  },
  {
   "cell_type": "code",
   "execution_count": null,
   "metadata": {},
   "outputs": [
    {
     "data": {
      "text/plain": [
       "({'camera_feature': tensor([[[0.2863, 0.2510, 0.2667,  ..., 0.2471, 0.2510, 0.2471],\n",
       "           [0.2706, 0.2588, 0.2549,  ..., 0.2471, 0.2471, 0.2471],\n",
       "           [0.2784, 0.2667, 0.2667,  ..., 0.2471, 0.2471, 0.2471],\n",
       "           ...,\n",
       "           [0.6196, 0.6118, 0.6196,  ..., 0.2549, 0.2549, 0.2510],\n",
       "           [0.6235, 0.6314, 0.6471,  ..., 0.2471, 0.2510, 0.2471],\n",
       "           [0.6196, 0.6275, 0.6314,  ..., 0.2431, 0.2431, 0.2392]],\n",
       "  \n",
       "          [[0.2863, 0.2471, 0.2588,  ..., 0.2941, 0.2980, 0.2941],\n",
       "           [0.2824, 0.2353, 0.2353,  ..., 0.2941, 0.2941, 0.2941],\n",
       "           [0.2902, 0.2471, 0.2549,  ..., 0.2941, 0.2941, 0.2941],\n",
       "           ...,\n",
       "           [0.6588, 0.6471, 0.6471,  ..., 0.2667, 0.2667, 0.2627],\n",
       "           [0.6588, 0.6588, 0.6706,  ..., 0.2588, 0.2627, 0.2588],\n",
       "           [0.6431, 0.6471, 0.6471,  ..., 0.2627, 0.2627, 0.2588]],\n",
       "  \n",
       "          [[0.2627, 0.2353, 0.2706,  ..., 0.3490, 0.3529, 0.3490],\n",
       "           [0.2706, 0.2275, 0.2431,  ..., 0.3412, 0.3412, 0.3412],\n",
       "           [0.2784, 0.2353, 0.2588,  ..., 0.3412, 0.3412, 0.3412],\n",
       "           ...,\n",
       "           [0.6627, 0.6510, 0.6392,  ..., 0.2784, 0.2784, 0.2745],\n",
       "           [0.6667, 0.6627, 0.6667,  ..., 0.2784, 0.2824, 0.2784],\n",
       "           [0.6549, 0.6510, 0.6471,  ..., 0.2863, 0.2863, 0.2824]]]),\n",
       "  'lidar_feature': tensor([[[0., 0., 0.,  ..., 0., 0., 0.],\n",
       "           [0., 0., 0.,  ..., 0., 0., 0.],\n",
       "           [0., 0., 0.,  ..., 0., 0., 0.],\n",
       "           ...,\n",
       "           [0., 0., 0.,  ..., 0., 0., 0.],\n",
       "           [0., 0., 0.,  ..., 0., 0., 0.],\n",
       "           [0., 0., 0.,  ..., 0., 0., 0.]]]),\n",
       "  'status_feature': tensor([ 0.0000,  0.0000,  1.0000,  0.0000,  3.8300,  0.1057, -0.0961, -0.6944])},\n",
       " {'trajectory': tensor([[ 1.8449, -0.0883, -0.1092],\n",
       "          [ 3.6463, -0.4023, -0.2398],\n",
       "          [ 5.3686, -0.9523, -0.3889],\n",
       "          [ 7.0978, -1.7980, -0.5564],\n",
       "          [ 8.7931, -3.0453, -0.7379],\n",
       "          [10.3725, -4.7149, -0.9012],\n",
       "          [11.8347, -6.7531, -0.9963],\n",
       "          [13.2534, -9.0238, -1.0544]], dtype=torch.float64),\n",
       "  'agent_states': tensor([[ -5.3988,  -4.0061,   0.2404,   4.6636,   1.9678],\n",
       "          [-10.9426,  -5.2023,   0.2298,   4.5296,   1.9831],\n",
       "          [ 10.6503, -11.2428,  -1.1187,   4.4456,   1.8974],\n",
       "          [-16.0913,  -6.2805,   0.2255,   4.5302,   1.8896],\n",
       "          [  0.9179,  18.0352,  -1.1452,   4.7756,   1.9590],\n",
       "          [-19.1302,   3.3367,   3.3589,   4.9595,   1.9845],\n",
       "          [ 13.4244, -16.2851,  -1.1312,   5.6670,   2.1008],\n",
       "          [-20.9861,  -7.3048,   0.2118,   4.3951,   1.8435],\n",
       "          [ 23.7659,  -2.5863,   0.2630,   4.3654,   1.9251],\n",
       "          [ 19.9960, -13.7404,   2.0203,   4.6691,   1.8668],\n",
       "          [ -2.1762,  24.5542,  -1.1468,   4.6618,   1.9837],\n",
       "          [-24.8577,   2.2001,   3.3629,   4.2649,   1.9834],\n",
       "          [-26.3724,  -8.3697,   0.2016,   4.5920,   1.8719],\n",
       "          [ 21.9885, -19.6084,   2.0161,   4.9229,   2.0497],\n",
       "          [-31.1572,   0.6674,   3.3986,   4.5383,   1.9450],\n",
       "          [ -5.1263,  31.2178,  -1.1396,   4.6045,   1.9948],\n",
       "          [ -8.9922,  31.2219,  -1.1064,   4.5750,   1.9372],\n",
       "          [-31.4626,  -9.5896,   0.2406,   4.4041,   1.7585],\n",
       "          [ 25.0772, -25.5547,   2.0335,   4.4038,   1.9064],\n",
       "          [  0.0000,   0.0000,   0.0000,   0.0000,   0.0000],\n",
       "          [  0.0000,   0.0000,   0.0000,   0.0000,   0.0000],\n",
       "          [  0.0000,   0.0000,   0.0000,   0.0000,   0.0000],\n",
       "          [  0.0000,   0.0000,   0.0000,   0.0000,   0.0000],\n",
       "          [  0.0000,   0.0000,   0.0000,   0.0000,   0.0000],\n",
       "          [  0.0000,   0.0000,   0.0000,   0.0000,   0.0000],\n",
       "          [  0.0000,   0.0000,   0.0000,   0.0000,   0.0000],\n",
       "          [  0.0000,   0.0000,   0.0000,   0.0000,   0.0000],\n",
       "          [  0.0000,   0.0000,   0.0000,   0.0000,   0.0000],\n",
       "          [  0.0000,   0.0000,   0.0000,   0.0000,   0.0000],\n",
       "          [  0.0000,   0.0000,   0.0000,   0.0000,   0.0000]]),\n",
       "  'agent_labels': tensor([ True,  True,  True,  True,  True,  True,  True,  True,  True,  True,\n",
       "           True,  True,  True,  True,  True,  True,  True,  True,  True, False,\n",
       "          False, False, False, False, False, False, False, False, False, False]),\n",
       "  'bev_semantic_map': tensor([[0., 0., 0.,  ..., 0., 0., 0.],\n",
       "          [0., 0., 0.,  ..., 0., 0., 0.],\n",
       "          [0., 0., 0.,  ..., 0., 0., 0.],\n",
       "          ...,\n",
       "          [0., 2., 2.,  ..., 0., 0., 0.],\n",
       "          [2., 2., 2.,  ..., 0., 0., 0.],\n",
       "          [2., 2., 2.,  ..., 0., 0., 0.]])})"
      ]
     },
     "execution_count": 12,
     "metadata": {},
     "output_type": "execute_result"
    }
   ],
   "source": [
    "data"
   ]
  },
  {
   "cell_type": "code",
   "execution_count": null,
   "metadata": {},
   "outputs": [
    {
     "data": {
      "text/plain": [
       "tensor([[ 3.6928e+00,  1.3640e-02, -1.6618e-03],\n",
       "        [ 7.4971e+00,  2.2371e-02, -2.2717e-03],\n",
       "        [ 1.1372e+01, -9.8581e-03, -2.1750e-03],\n",
       "        [ 1.5332e+01, -3.3419e-02, -2.8064e-03],\n",
       "        [ 1.9347e+01, -5.1332e-02, -2.8773e-03],\n",
       "        [ 2.3422e+01, -6.1071e-02, -2.7041e-03],\n",
       "        [ 2.7508e+01, -8.1003e-02, -2.8067e-03],\n",
       "        [ 3.1510e+01, -9.8640e-02, -2.1192e-03]], dtype=torch.float64)"
      ]
     },
     "execution_count": 13,
     "metadata": {},
     "output_type": "execute_result"
    }
   ],
   "source": [
    "data1[1][\"trajectory\"]"
   ]
  },
  {
   "cell_type": "code",
   "execution_count": null,
   "metadata": {},
   "outputs": [
    {
     "data": {
      "text/plain": [
       "tensor([[ 1.8449, -0.0883, -0.1092],\n",
       "        [ 3.6463, -0.4023, -0.2398],\n",
       "        [ 5.3686, -0.9523, -0.3889],\n",
       "        [ 7.0978, -1.7980, -0.5564],\n",
       "        [ 8.7931, -3.0453, -0.7379],\n",
       "        [10.3725, -4.7149, -0.9012],\n",
       "        [11.8347, -6.7531, -0.9963],\n",
       "        [13.2534, -9.0238, -1.0544]], dtype=torch.float64)"
      ]
     },
     "execution_count": 14,
     "metadata": {},
     "output_type": "execute_result"
    }
   ],
   "source": [
    "data[1][\"trajectory\"]"
   ]
  },
  {
   "cell_type": "code",
   "execution_count": null,
   "metadata": {},
   "outputs": [
    {
     "data": {
      "text/plain": [
       "torch.Size([3, 256, 1024])"
      ]
     },
     "execution_count": 15,
     "metadata": {},
     "output_type": "execute_result"
    }
   ],
   "source": [
    "data[0][\"camera_feature\"].shape"
   ]
  },
  {
   "cell_type": "code",
   "execution_count": null,
   "metadata": {},
   "outputs": [
    {
     "data": {
      "text/plain": [
       "torch.Size([1, 256, 256])"
      ]
     },
     "execution_count": 16,
     "metadata": {},
     "output_type": "execute_result"
    }
   ],
   "source": [
    "data[0][\"lidar_feature\"].shape"
   ]
  },
  {
   "cell_type": "code",
   "execution_count": null,
   "metadata": {},
   "outputs": [
    {
     "data": {
      "text/plain": [
       "torch.Size([8])"
      ]
     },
     "execution_count": 17,
     "metadata": {},
     "output_type": "execute_result"
    }
   ],
   "source": [
    "data[0][\"status_feature\"].shape"
   ]
  },
  {
   "cell_type": "code",
   "execution_count": null,
   "metadata": {},
   "outputs": [
    {
     "data": {
      "text/plain": [
       "torch.Size([30, 5])"
      ]
     },
     "execution_count": 18,
     "metadata": {},
     "output_type": "execute_result"
    }
   ],
   "source": [
    "data[1][\"agent_states\"].shape"
   ]
  },
  {
   "cell_type": "code",
   "execution_count": null,
   "metadata": {},
   "outputs": [],
   "source": []
  }
 ],
 "metadata": {
  "kernelspec": {
   "display_name": "navsim",
   "language": "python",
   "name": "python3"
  },
  "language_info": {
   "codemirror_mode": {
    "name": "ipython",
    "version": 3
   },
   "file_extension": ".py",
   "mimetype": "text/x-python",
   "name": "python",
   "nbconvert_exporter": "python",
   "pygments_lexer": "ipython3",
   "version": "3.9.19"
  }
 },
 "nbformat": 4,
 "nbformat_minor": 2
}
