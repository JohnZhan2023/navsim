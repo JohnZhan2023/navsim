{
 "cells": [
  {
   "cell_type": "code",
   "execution_count": 1,
   "metadata": {},
   "outputs": [
    {
     "name": "stderr",
     "output_type": "stream",
     "text": [
      "/root/miniconda3/envs/navsim/lib/python3.9/site-packages/tqdm/auto.py:21: TqdmWarning: IProgress not found. Please update jupyter and ipywidgets. See https://ipywidgets.readthedocs.io/en/stable/user_install.html\n",
      "  from .autonotebook import tqdm as notebook_tqdm\n"
     ]
    }
   ],
   "source": [
    "from transformer4planning.models.decoder.diffusion_decoder import TrajDiffusionModel"
   ]
  },
  {
   "cell_type": "code",
   "execution_count": 2,
   "metadata": {},
   "outputs": [
    {
     "name": "stdout",
     "output_type": "stream",
     "text": [
      "1024\n"
     ]
    }
   ],
   "source": [
    "from types import SimpleNamespace\n",
    "\n",
    "config = SimpleNamespace(\n",
    "  n_embd=1024,  # 用于定义嵌入的维度，影响位置嵌入和网络层的大小。\n",
    "  n_inner=1500, # 用于 DecoderResCat 类的参数，定义内部层的维度。\n",
    "  n_head=4,     # 用于 Transformer 编码器和解码器层中的多头注意力机制的头数。\n",
    "  n_layer=3,    # 定义 Transformer 编码器和解码器的层数。\n",
    "  debug_scene_level_prediction=False, # 布尔值，用于决定是否启用场景级别的调试模式，影响位置嵌入的初始化方式。\n",
    "  debug_scenario_decoding=False,       # 布尔值，用于决定是否在解码时启用特定的调试模式，控制是否创建 MotionAdapter 和处理特定的解码逻辑。\n",
    "  mc_num=1   ,   # 在调试解码时使用，用于处理多样本问题，确保批次大小正确。\n",
    "  k=,\n",
    "  predict_yaw=,\n",
    "  future_select=\"next_8\",\n",
    "  diffusion_backbone=\"DDPM\",\n",
    "  pred_key_points_only=False,\n",
    "  pred_key_points_only=1,\n",
    "  \n",
    "  \n",
    "  \n",
    ")\n",
    "\n",
    "# 现在你可以像这样访问属性：\n",
    "print(config.n_embd)\n"
   ]
  },
  {
   "cell_type": "code",
   "execution_count": 8,
   "metadata": {},
   "outputs": [],
   "source": [
    "model=TrajDiffusionModel(config,out_features=1024,predict_range=8)"
   ]
  },
  {
   "cell_type": "code",
   "execution_count": 9,
   "metadata": {},
   "outputs": [
    {
     "name": "stdout",
     "output_type": "stream",
     "text": [
      "x: torch.Size([10, 5, 1024])\n",
      "t: torch.Size([10])\n",
      "state: torch.Size([10, 5, 1024])\n"
     ]
    }
   ],
   "source": [
    "import torch\n",
    "\n",
    "def generate_test_data(batch_size=10, seq_length=5, feature_dim=1024):\n",
    "    # 生成随机数据 x\n",
    "    x = torch.randn(batch_size, seq_length, feature_dim)\n",
    "\n",
    "    # 生成随机时间步 t\n",
    "    # 假设每个样本的时间步都是单独的整数\n",
    "    t = torch.randint(low=0, high=100, size=(batch_size,))\n",
    "\n",
    "    # 生成随机状态 state\n",
    "    # 假设状态的维度与 x 相同\n",
    "    state = torch.randn(batch_size,seq_length, feature_dim)\n",
    "\n",
    "    return x, t, state\n",
    "\n",
    "# 调用函数生成数据\n",
    "x, t, state = generate_test_data()\n",
    "\n",
    "# 测试输出\n",
    "print(\"x:\", x.shape)\n",
    "print(\"t:\", t.shape)\n",
    "print(\"state:\", state.shape)\n"
   ]
  },
  {
   "cell_type": "code",
   "execution_count": 11,
   "metadata": {},
   "outputs": [
    {
     "name": "stdout",
     "output_type": "stream",
     "text": [
      "torch.Size([10, 5, 1024]) torch.Size([10, 5, 1024]) torch.Size([10, 1, 1024]) torch.Size([1, 8, 1024])\n"
     ]
    },
    {
     "ename": "RuntimeError",
     "evalue": "The size of tensor a (5) must match the size of tensor b (8) at non-singleton dimension 1",
     "output_type": "error",
     "traceback": [
      "\u001b[0;31m---------------------------------------------------------------------------\u001b[0m",
      "\u001b[0;31mRuntimeError\u001b[0m                              Traceback (most recent call last)",
      "Cell \u001b[0;32mIn[11], line 1\u001b[0m\n\u001b[0;32m----> 1\u001b[0m \u001b[43mmodel\u001b[49m\u001b[38;5;241;43m.\u001b[39;49m\u001b[43mforward\u001b[49m\u001b[43m(\u001b[49m\u001b[43mx\u001b[49m\u001b[43m,\u001b[49m\u001b[43mt\u001b[49m\u001b[43m,\u001b[49m\u001b[43mstate\u001b[49m\u001b[43m)\u001b[49m\n",
      "File \u001b[0;32m~/navsim/transformer4planning/models/decoder/diffusion_decoder.py:159\u001b[0m, in \u001b[0;36mTrajDiffusionModel.forward\u001b[0;34m(self, x, t, state, info_dict)\u001b[0m\n\u001b[1;32m    152\u001b[0m \u001b[38;5;66;03m# concat input embedding\u001b[39;00m\n\u001b[1;32m    153\u001b[0m \u001b[38;5;66;03m# seq = torch.cat([state_embedding, x_embedding], dim=-2) # B * (2*seq_len) * feat_dim\u001b[39;00m\n\u001b[1;32m    154\u001b[0m \u001b[38;5;66;03m# seq = seq + t_embedding + self.position_embedding # B * (2*seq_len) * feat_dim\u001b[39;00m\n\u001b[1;32m    155\u001b[0m \n\u001b[1;32m    156\u001b[0m \u001b[38;5;66;03m# feature = self.backbone(seq)\u001b[39;00m\n\u001b[1;32m    157\u001b[0m \u001b[38;5;66;03m# feature = feature[..., -x.shape[-2]:, :]\u001b[39;00m\n\u001b[1;32m    158\u001b[0m \u001b[38;5;28mprint\u001b[39m(x_embedding\u001b[38;5;241m.\u001b[39mshape, state_embedding\u001b[38;5;241m.\u001b[39mshape, t_embedding\u001b[38;5;241m.\u001b[39mshape, \u001b[38;5;28mself\u001b[39m\u001b[38;5;241m.\u001b[39mposition_embedding\u001b[38;5;241m.\u001b[39mshape)\n\u001b[0;32m--> 159\u001b[0m x_embedding \u001b[38;5;241m=\u001b[39m \u001b[43mx_embedding\u001b[49m\u001b[43m \u001b[49m\u001b[38;5;241;43m+\u001b[39;49m\u001b[43m \u001b[49m\u001b[43mt_embedding\u001b[49m\u001b[43m \u001b[49m\u001b[38;5;241;43m+\u001b[39;49m\u001b[43m \u001b[49m\u001b[38;5;28;43mself\u001b[39;49m\u001b[38;5;241;43m.\u001b[39;49m\u001b[43mposition_embedding\u001b[49m\n\u001b[1;32m    160\u001b[0m \u001b[38;5;28;01mif\u001b[39;00m \u001b[38;5;28mself\u001b[39m\u001b[38;5;241m.\u001b[39mconfig\u001b[38;5;241m.\u001b[39mdebug_scenario_decoding:\n\u001b[1;32m    161\u001b[0m     \u001b[38;5;28;01massert\u001b[39;00m info_dict \u001b[38;5;129;01mis\u001b[39;00m \u001b[38;5;129;01mnot\u001b[39;00m \u001b[38;5;28;01mNone\u001b[39;00m\n",
      "\u001b[0;31mRuntimeError\u001b[0m: The size of tensor a (5) must match the size of tensor b (8) at non-singleton dimension 1"
     ]
    }
   ],
   "source": [
    "model.forward(x,t,state)"
   ]
  }
 ],
 "metadata": {
  "kernelspec": {
   "display_name": "navsim",
   "language": "python",
   "name": "python3"
  },
  "language_info": {
   "codemirror_mode": {
    "name": "ipython",
    "version": 3
   },
   "file_extension": ".py",
   "mimetype": "text/x-python",
   "name": "python",
   "nbconvert_exporter": "python",
   "pygments_lexer": "ipython3",
   "version": "3.9.19"
  }
 },
 "nbformat": 4,
 "nbformat_minor": 2
}
